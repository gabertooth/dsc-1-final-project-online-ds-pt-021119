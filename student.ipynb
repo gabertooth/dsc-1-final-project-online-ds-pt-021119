{
 "cells": [
  {
   "cell_type": "markdown",
   "metadata": {},
   "source": [
    "## Final Project Submission\n",
    "\n",
    "Please fill out:\n",
    "* Student name: Gabriel Blatstein\n",
    "* Student pace: Part time\n",
    "* Scheduled project review date/time: \n",
    "* Instructor name: Brandon Lewis\n",
    "* Blog post URL:\n"
   ]
  },
  {
   "cell_type": "markdown",
   "metadata": {},
   "source": [
    "The following jupyter notebook walks you through a data set of houses in King County, Washington. The following variables are contained within the data set:\n",
    "1. id: unique identified for a house\n",
    "2. Date: house was sold\n",
    "3. Price: ***Our prediction target variable***\n",
    "4. Bedrooms: Number of bedrooms in a home\n",
    "5. Bathrooms: Number of bathrooms in a home\n",
    "6. Sqft_livingsquare: Sqaure footage of the home\n",
    "7. Sqft_lotsquare:  Squre footage of the lot the home is built on\n",
    "8. Floors:  Number of floors (or levels) in the home\n",
    "9. Waterfront: House which has a view to a waterfront\n",
    "10. View: Number of times the home has been viewed\n",
    "11. Condition: The overall condition of the home\n",
    "12. Grade: Overall grade given to the housing unit, based on King County grading system\n",
    "13. Sqft_above: Square footage of house without including the basement\n",
    "14. Sqft_basement: Square footage of the basement\n",
    "15. Yr_built: Year the house was built in\n",
    "16. Yr_renovated: Year when house was renovated\n",
    "17. Zipcode: Zip of the home\n",
    "18. Lat: Latitude coordinate\n",
    "19. Long: Longitude coordinate\n",
    "20. Sqft_living15: The square footage of interior housing living space for the nearest 15 neighbors\n",
    "21. Sqft_lot15: The square footage of the land lots of the nearest 15 neighbors\n"
   ]
  },
  {
   "cell_type": "markdown",
   "metadata": {},
   "source": [
    "***We will be using the OSEMN Process:***\n",
    "\n",
    "1. Obtain: Obtain the data from the relevant resources and stakeholders\n",
    "\n",
    "2. Scrub: Cleaning the data into formats that can be digested in Python packackages such as Sklearn or Statsmodels Rememer the \"Gargbage in, garbage out\".\n",
    "\n",
    "3. Explore: Using statistical methods and data analytic techniques explore the data to find significant patterns or trends\n",
    "\n",
    "4. Model: Construct models to predict and forecast the data. Here we focus on our target variable which is price!\n",
    "\n",
    "5. Interpret: Take the results of the analysis and model and create meaningful visualizations or presentations\n",
    "\n",
    "    \n",
    "    "
   ]
  },
  {
   "cell_type": "markdown",
   "metadata": {},
   "source": [
    "# Data Obtaining"
   ]
  },
  {
   "cell_type": "code",
   "execution_count": 1,
   "metadata": {},
   "outputs": [],
   "source": [
    "#Importing all necessary libriaries\n",
    "import pandas as pd\n",
    "import numpy as np\n",
    "import matplotlib.pyplot as plt\n",
    "%matplotlib inline\n",
    "import seaborn as sns\n",
    "\n",
    "#Modeling and Vaidation Libraries\n",
    "from sklearn.linear_model import LinearRegression\n",
    "from sklearn.model_selection import train_test_split\n",
    "from sklearn.model_selection import cross_val_score\n",
    "from sklearn import metrics\n",
    "import statsmodels.api as sm "
   ]
  },
  {
   "cell_type": "markdown",
   "metadata": {},
   "source": [
    "First we will start by loading our data and having a quick look at some summary inforrmation"
   ]
  },
  {
   "cell_type": "code",
   "execution_count": 2,
   "metadata": {},
   "outputs": [],
   "source": [
    "df=pd.read_csv('kc_house_data.csv')"
   ]
  },
  {
   "cell_type": "code",
   "execution_count": 3,
   "metadata": {
    "scrolled": false
   },
   "outputs": [
    {
     "data": {
      "text/html": [
       "<div>\n",
       "<style scoped>\n",
       "    .dataframe tbody tr th:only-of-type {\n",
       "        vertical-align: middle;\n",
       "    }\n",
       "\n",
       "    .dataframe tbody tr th {\n",
       "        vertical-align: top;\n",
       "    }\n",
       "\n",
       "    .dataframe thead th {\n",
       "        text-align: right;\n",
       "    }\n",
       "</style>\n",
       "<table border=\"1\" class=\"dataframe\">\n",
       "  <thead>\n",
       "    <tr style=\"text-align: right;\">\n",
       "      <th></th>\n",
       "      <th>id</th>\n",
       "      <th>date</th>\n",
       "      <th>price</th>\n",
       "      <th>bedrooms</th>\n",
       "      <th>bathrooms</th>\n",
       "      <th>sqft_living</th>\n",
       "      <th>sqft_lot</th>\n",
       "      <th>floors</th>\n",
       "      <th>waterfront</th>\n",
       "      <th>view</th>\n",
       "      <th>...</th>\n",
       "      <th>grade</th>\n",
       "      <th>sqft_above</th>\n",
       "      <th>sqft_basement</th>\n",
       "      <th>yr_built</th>\n",
       "      <th>yr_renovated</th>\n",
       "      <th>zipcode</th>\n",
       "      <th>lat</th>\n",
       "      <th>long</th>\n",
       "      <th>sqft_living15</th>\n",
       "      <th>sqft_lot15</th>\n",
       "    </tr>\n",
       "  </thead>\n",
       "  <tbody>\n",
       "    <tr>\n",
       "      <th>0</th>\n",
       "      <td>7129300520</td>\n",
       "      <td>10/13/2014</td>\n",
       "      <td>221900.0</td>\n",
       "      <td>3</td>\n",
       "      <td>1.00</td>\n",
       "      <td>1180</td>\n",
       "      <td>5650</td>\n",
       "      <td>1.0</td>\n",
       "      <td>NaN</td>\n",
       "      <td>0.0</td>\n",
       "      <td>...</td>\n",
       "      <td>7</td>\n",
       "      <td>1180</td>\n",
       "      <td>0.0</td>\n",
       "      <td>1955</td>\n",
       "      <td>0.0</td>\n",
       "      <td>98178</td>\n",
       "      <td>47.5112</td>\n",
       "      <td>-122.257</td>\n",
       "      <td>1340</td>\n",
       "      <td>5650</td>\n",
       "    </tr>\n",
       "    <tr>\n",
       "      <th>1</th>\n",
       "      <td>6414100192</td>\n",
       "      <td>12/9/2014</td>\n",
       "      <td>538000.0</td>\n",
       "      <td>3</td>\n",
       "      <td>2.25</td>\n",
       "      <td>2570</td>\n",
       "      <td>7242</td>\n",
       "      <td>2.0</td>\n",
       "      <td>0.0</td>\n",
       "      <td>0.0</td>\n",
       "      <td>...</td>\n",
       "      <td>7</td>\n",
       "      <td>2170</td>\n",
       "      <td>400.0</td>\n",
       "      <td>1951</td>\n",
       "      <td>1991.0</td>\n",
       "      <td>98125</td>\n",
       "      <td>47.7210</td>\n",
       "      <td>-122.319</td>\n",
       "      <td>1690</td>\n",
       "      <td>7639</td>\n",
       "    </tr>\n",
       "    <tr>\n",
       "      <th>2</th>\n",
       "      <td>5631500400</td>\n",
       "      <td>2/25/2015</td>\n",
       "      <td>180000.0</td>\n",
       "      <td>2</td>\n",
       "      <td>1.00</td>\n",
       "      <td>770</td>\n",
       "      <td>10000</td>\n",
       "      <td>1.0</td>\n",
       "      <td>0.0</td>\n",
       "      <td>0.0</td>\n",
       "      <td>...</td>\n",
       "      <td>6</td>\n",
       "      <td>770</td>\n",
       "      <td>0.0</td>\n",
       "      <td>1933</td>\n",
       "      <td>NaN</td>\n",
       "      <td>98028</td>\n",
       "      <td>47.7379</td>\n",
       "      <td>-122.233</td>\n",
       "      <td>2720</td>\n",
       "      <td>8062</td>\n",
       "    </tr>\n",
       "    <tr>\n",
       "      <th>3</th>\n",
       "      <td>2487200875</td>\n",
       "      <td>12/9/2014</td>\n",
       "      <td>604000.0</td>\n",
       "      <td>4</td>\n",
       "      <td>3.00</td>\n",
       "      <td>1960</td>\n",
       "      <td>5000</td>\n",
       "      <td>1.0</td>\n",
       "      <td>0.0</td>\n",
       "      <td>0.0</td>\n",
       "      <td>...</td>\n",
       "      <td>7</td>\n",
       "      <td>1050</td>\n",
       "      <td>910.0</td>\n",
       "      <td>1965</td>\n",
       "      <td>0.0</td>\n",
       "      <td>98136</td>\n",
       "      <td>47.5208</td>\n",
       "      <td>-122.393</td>\n",
       "      <td>1360</td>\n",
       "      <td>5000</td>\n",
       "    </tr>\n",
       "    <tr>\n",
       "      <th>4</th>\n",
       "      <td>1954400510</td>\n",
       "      <td>2/18/2015</td>\n",
       "      <td>510000.0</td>\n",
       "      <td>3</td>\n",
       "      <td>2.00</td>\n",
       "      <td>1680</td>\n",
       "      <td>8080</td>\n",
       "      <td>1.0</td>\n",
       "      <td>0.0</td>\n",
       "      <td>0.0</td>\n",
       "      <td>...</td>\n",
       "      <td>8</td>\n",
       "      <td>1680</td>\n",
       "      <td>0.0</td>\n",
       "      <td>1987</td>\n",
       "      <td>0.0</td>\n",
       "      <td>98074</td>\n",
       "      <td>47.6168</td>\n",
       "      <td>-122.045</td>\n",
       "      <td>1800</td>\n",
       "      <td>7503</td>\n",
       "    </tr>\n",
       "  </tbody>\n",
       "</table>\n",
       "<p>5 rows × 21 columns</p>\n",
       "</div>"
      ],
      "text/plain": [
       "           id        date     price  bedrooms  bathrooms  sqft_living  \\\n",
       "0  7129300520  10/13/2014  221900.0         3       1.00         1180   \n",
       "1  6414100192   12/9/2014  538000.0         3       2.25         2570   \n",
       "2  5631500400   2/25/2015  180000.0         2       1.00          770   \n",
       "3  2487200875   12/9/2014  604000.0         4       3.00         1960   \n",
       "4  1954400510   2/18/2015  510000.0         3       2.00         1680   \n",
       "\n",
       "   sqft_lot  floors  waterfront  view     ...      grade  sqft_above  \\\n",
       "0      5650     1.0         NaN   0.0     ...          7        1180   \n",
       "1      7242     2.0         0.0   0.0     ...          7        2170   \n",
       "2     10000     1.0         0.0   0.0     ...          6         770   \n",
       "3      5000     1.0         0.0   0.0     ...          7        1050   \n",
       "4      8080     1.0         0.0   0.0     ...          8        1680   \n",
       "\n",
       "   sqft_basement yr_built  yr_renovated  zipcode      lat     long  \\\n",
       "0            0.0     1955           0.0    98178  47.5112 -122.257   \n",
       "1          400.0     1951        1991.0    98125  47.7210 -122.319   \n",
       "2            0.0     1933           NaN    98028  47.7379 -122.233   \n",
       "3          910.0     1965           0.0    98136  47.5208 -122.393   \n",
       "4            0.0     1987           0.0    98074  47.6168 -122.045   \n",
       "\n",
       "   sqft_living15  sqft_lot15  \n",
       "0           1340        5650  \n",
       "1           1690        7639  \n",
       "2           2720        8062  \n",
       "3           1360        5000  \n",
       "4           1800        7503  \n",
       "\n",
       "[5 rows x 21 columns]"
      ]
     },
     "execution_count": 3,
     "metadata": {},
     "output_type": "execute_result"
    }
   ],
   "source": [
    "df.head()"
   ]
  },
  {
   "cell_type": "markdown",
   "metadata": {},
   "source": [
    "I noticed a NaN value in waterfront and wanted to take a look at a few of the variables unique values. "
   ]
  },
  {
   "cell_type": "code",
   "execution_count": 4,
   "metadata": {},
   "outputs": [
    {
     "name": "stdout",
     "output_type": "stream",
     "text": [
      "Water Front: [nan  0.  1.]\n",
      "View: [ 0. nan  3.  4.  2.  1.]\n",
      "Bathrooms: [1.   2.25 3.   2.   4.5  1.5  2.5  1.75 2.75 3.25 4.   3.5  0.75 4.75\n",
      " 5.   4.25 3.75 1.25 5.25 6.   0.5  5.5  6.75 5.75 8.   7.5  7.75 6.25\n",
      " 6.5 ]\n",
      "Bedrooms: [ 3  2  4  5  1  6  7  8  9 11 10 33]\n",
      "Condition [3 5 4 1 2]\n"
     ]
    }
   ],
   "source": [
    "print('Water Front:' , df['waterfront'].unique())\n",
    "print('View:' , df['view'].unique())\n",
    "print('Bathrooms:' , df['bathrooms'].unique())\n",
    "print('Bedrooms:' , df['bedrooms'].unique())\n",
    "print('Condition' , df['condition'].unique())"
   ]
  },
  {
   "cell_type": "code",
   "execution_count": 5,
   "metadata": {},
   "outputs": [
    {
     "data": {
      "text/html": [
       "<div>\n",
       "<style scoped>\n",
       "    .dataframe tbody tr th:only-of-type {\n",
       "        vertical-align: middle;\n",
       "    }\n",
       "\n",
       "    .dataframe tbody tr th {\n",
       "        vertical-align: top;\n",
       "    }\n",
       "\n",
       "    .dataframe thead th {\n",
       "        text-align: right;\n",
       "    }\n",
       "</style>\n",
       "<table border=\"1\" class=\"dataframe\">\n",
       "  <thead>\n",
       "    <tr style=\"text-align: right;\">\n",
       "      <th></th>\n",
       "      <th>id</th>\n",
       "      <th>price</th>\n",
       "      <th>bedrooms</th>\n",
       "      <th>bathrooms</th>\n",
       "      <th>sqft_living</th>\n",
       "      <th>sqft_lot</th>\n",
       "      <th>floors</th>\n",
       "      <th>waterfront</th>\n",
       "      <th>view</th>\n",
       "      <th>condition</th>\n",
       "      <th>grade</th>\n",
       "      <th>sqft_above</th>\n",
       "      <th>yr_built</th>\n",
       "      <th>yr_renovated</th>\n",
       "      <th>zipcode</th>\n",
       "      <th>lat</th>\n",
       "      <th>long</th>\n",
       "      <th>sqft_living15</th>\n",
       "      <th>sqft_lot15</th>\n",
       "    </tr>\n",
       "  </thead>\n",
       "  <tbody>\n",
       "    <tr>\n",
       "      <th>count</th>\n",
       "      <td>2.159700e+04</td>\n",
       "      <td>2.159700e+04</td>\n",
       "      <td>21597.000000</td>\n",
       "      <td>21597.000000</td>\n",
       "      <td>21597.000000</td>\n",
       "      <td>2.159700e+04</td>\n",
       "      <td>21597.000000</td>\n",
       "      <td>19221.000000</td>\n",
       "      <td>21534.000000</td>\n",
       "      <td>21597.000000</td>\n",
       "      <td>21597.000000</td>\n",
       "      <td>21597.000000</td>\n",
       "      <td>21597.000000</td>\n",
       "      <td>17755.000000</td>\n",
       "      <td>21597.000000</td>\n",
       "      <td>21597.000000</td>\n",
       "      <td>21597.000000</td>\n",
       "      <td>21597.000000</td>\n",
       "      <td>21597.000000</td>\n",
       "    </tr>\n",
       "    <tr>\n",
       "      <th>mean</th>\n",
       "      <td>4.580474e+09</td>\n",
       "      <td>5.402966e+05</td>\n",
       "      <td>3.373200</td>\n",
       "      <td>2.115826</td>\n",
       "      <td>2080.321850</td>\n",
       "      <td>1.509941e+04</td>\n",
       "      <td>1.494096</td>\n",
       "      <td>0.007596</td>\n",
       "      <td>0.233863</td>\n",
       "      <td>3.409825</td>\n",
       "      <td>7.657915</td>\n",
       "      <td>1788.596842</td>\n",
       "      <td>1970.999676</td>\n",
       "      <td>83.636778</td>\n",
       "      <td>98077.951845</td>\n",
       "      <td>47.560093</td>\n",
       "      <td>-122.213982</td>\n",
       "      <td>1986.620318</td>\n",
       "      <td>12758.283512</td>\n",
       "    </tr>\n",
       "    <tr>\n",
       "      <th>std</th>\n",
       "      <td>2.876736e+09</td>\n",
       "      <td>3.673681e+05</td>\n",
       "      <td>0.926299</td>\n",
       "      <td>0.768984</td>\n",
       "      <td>918.106125</td>\n",
       "      <td>4.141264e+04</td>\n",
       "      <td>0.539683</td>\n",
       "      <td>0.086825</td>\n",
       "      <td>0.765686</td>\n",
       "      <td>0.650546</td>\n",
       "      <td>1.173200</td>\n",
       "      <td>827.759761</td>\n",
       "      <td>29.375234</td>\n",
       "      <td>399.946414</td>\n",
       "      <td>53.513072</td>\n",
       "      <td>0.138552</td>\n",
       "      <td>0.140724</td>\n",
       "      <td>685.230472</td>\n",
       "      <td>27274.441950</td>\n",
       "    </tr>\n",
       "    <tr>\n",
       "      <th>min</th>\n",
       "      <td>1.000102e+06</td>\n",
       "      <td>7.800000e+04</td>\n",
       "      <td>1.000000</td>\n",
       "      <td>0.500000</td>\n",
       "      <td>370.000000</td>\n",
       "      <td>5.200000e+02</td>\n",
       "      <td>1.000000</td>\n",
       "      <td>0.000000</td>\n",
       "      <td>0.000000</td>\n",
       "      <td>1.000000</td>\n",
       "      <td>3.000000</td>\n",
       "      <td>370.000000</td>\n",
       "      <td>1900.000000</td>\n",
       "      <td>0.000000</td>\n",
       "      <td>98001.000000</td>\n",
       "      <td>47.155900</td>\n",
       "      <td>-122.519000</td>\n",
       "      <td>399.000000</td>\n",
       "      <td>651.000000</td>\n",
       "    </tr>\n",
       "    <tr>\n",
       "      <th>25%</th>\n",
       "      <td>2.123049e+09</td>\n",
       "      <td>3.220000e+05</td>\n",
       "      <td>3.000000</td>\n",
       "      <td>1.750000</td>\n",
       "      <td>1430.000000</td>\n",
       "      <td>5.040000e+03</td>\n",
       "      <td>1.000000</td>\n",
       "      <td>0.000000</td>\n",
       "      <td>0.000000</td>\n",
       "      <td>3.000000</td>\n",
       "      <td>7.000000</td>\n",
       "      <td>1190.000000</td>\n",
       "      <td>1951.000000</td>\n",
       "      <td>0.000000</td>\n",
       "      <td>98033.000000</td>\n",
       "      <td>47.471100</td>\n",
       "      <td>-122.328000</td>\n",
       "      <td>1490.000000</td>\n",
       "      <td>5100.000000</td>\n",
       "    </tr>\n",
       "    <tr>\n",
       "      <th>50%</th>\n",
       "      <td>3.904930e+09</td>\n",
       "      <td>4.500000e+05</td>\n",
       "      <td>3.000000</td>\n",
       "      <td>2.250000</td>\n",
       "      <td>1910.000000</td>\n",
       "      <td>7.618000e+03</td>\n",
       "      <td>1.500000</td>\n",
       "      <td>0.000000</td>\n",
       "      <td>0.000000</td>\n",
       "      <td>3.000000</td>\n",
       "      <td>7.000000</td>\n",
       "      <td>1560.000000</td>\n",
       "      <td>1975.000000</td>\n",
       "      <td>0.000000</td>\n",
       "      <td>98065.000000</td>\n",
       "      <td>47.571800</td>\n",
       "      <td>-122.231000</td>\n",
       "      <td>1840.000000</td>\n",
       "      <td>7620.000000</td>\n",
       "    </tr>\n",
       "    <tr>\n",
       "      <th>75%</th>\n",
       "      <td>7.308900e+09</td>\n",
       "      <td>6.450000e+05</td>\n",
       "      <td>4.000000</td>\n",
       "      <td>2.500000</td>\n",
       "      <td>2550.000000</td>\n",
       "      <td>1.068500e+04</td>\n",
       "      <td>2.000000</td>\n",
       "      <td>0.000000</td>\n",
       "      <td>0.000000</td>\n",
       "      <td>4.000000</td>\n",
       "      <td>8.000000</td>\n",
       "      <td>2210.000000</td>\n",
       "      <td>1997.000000</td>\n",
       "      <td>0.000000</td>\n",
       "      <td>98118.000000</td>\n",
       "      <td>47.678000</td>\n",
       "      <td>-122.125000</td>\n",
       "      <td>2360.000000</td>\n",
       "      <td>10083.000000</td>\n",
       "    </tr>\n",
       "    <tr>\n",
       "      <th>max</th>\n",
       "      <td>9.900000e+09</td>\n",
       "      <td>7.700000e+06</td>\n",
       "      <td>33.000000</td>\n",
       "      <td>8.000000</td>\n",
       "      <td>13540.000000</td>\n",
       "      <td>1.651359e+06</td>\n",
       "      <td>3.500000</td>\n",
       "      <td>1.000000</td>\n",
       "      <td>4.000000</td>\n",
       "      <td>5.000000</td>\n",
       "      <td>13.000000</td>\n",
       "      <td>9410.000000</td>\n",
       "      <td>2015.000000</td>\n",
       "      <td>2015.000000</td>\n",
       "      <td>98199.000000</td>\n",
       "      <td>47.777600</td>\n",
       "      <td>-121.315000</td>\n",
       "      <td>6210.000000</td>\n",
       "      <td>871200.000000</td>\n",
       "    </tr>\n",
       "  </tbody>\n",
       "</table>\n",
       "</div>"
      ],
      "text/plain": [
       "                 id         price      bedrooms     bathrooms   sqft_living  \\\n",
       "count  2.159700e+04  2.159700e+04  21597.000000  21597.000000  21597.000000   \n",
       "mean   4.580474e+09  5.402966e+05      3.373200      2.115826   2080.321850   \n",
       "std    2.876736e+09  3.673681e+05      0.926299      0.768984    918.106125   \n",
       "min    1.000102e+06  7.800000e+04      1.000000      0.500000    370.000000   \n",
       "25%    2.123049e+09  3.220000e+05      3.000000      1.750000   1430.000000   \n",
       "50%    3.904930e+09  4.500000e+05      3.000000      2.250000   1910.000000   \n",
       "75%    7.308900e+09  6.450000e+05      4.000000      2.500000   2550.000000   \n",
       "max    9.900000e+09  7.700000e+06     33.000000      8.000000  13540.000000   \n",
       "\n",
       "           sqft_lot        floors    waterfront          view     condition  \\\n",
       "count  2.159700e+04  21597.000000  19221.000000  21534.000000  21597.000000   \n",
       "mean   1.509941e+04      1.494096      0.007596      0.233863      3.409825   \n",
       "std    4.141264e+04      0.539683      0.086825      0.765686      0.650546   \n",
       "min    5.200000e+02      1.000000      0.000000      0.000000      1.000000   \n",
       "25%    5.040000e+03      1.000000      0.000000      0.000000      3.000000   \n",
       "50%    7.618000e+03      1.500000      0.000000      0.000000      3.000000   \n",
       "75%    1.068500e+04      2.000000      0.000000      0.000000      4.000000   \n",
       "max    1.651359e+06      3.500000      1.000000      4.000000      5.000000   \n",
       "\n",
       "              grade    sqft_above      yr_built  yr_renovated       zipcode  \\\n",
       "count  21597.000000  21597.000000  21597.000000  17755.000000  21597.000000   \n",
       "mean       7.657915   1788.596842   1970.999676     83.636778  98077.951845   \n",
       "std        1.173200    827.759761     29.375234    399.946414     53.513072   \n",
       "min        3.000000    370.000000   1900.000000      0.000000  98001.000000   \n",
       "25%        7.000000   1190.000000   1951.000000      0.000000  98033.000000   \n",
       "50%        7.000000   1560.000000   1975.000000      0.000000  98065.000000   \n",
       "75%        8.000000   2210.000000   1997.000000      0.000000  98118.000000   \n",
       "max       13.000000   9410.000000   2015.000000   2015.000000  98199.000000   \n",
       "\n",
       "                lat          long  sqft_living15     sqft_lot15  \n",
       "count  21597.000000  21597.000000   21597.000000   21597.000000  \n",
       "mean      47.560093   -122.213982    1986.620318   12758.283512  \n",
       "std        0.138552      0.140724     685.230472   27274.441950  \n",
       "min       47.155900   -122.519000     399.000000     651.000000  \n",
       "25%       47.471100   -122.328000    1490.000000    5100.000000  \n",
       "50%       47.571800   -122.231000    1840.000000    7620.000000  \n",
       "75%       47.678000   -122.125000    2360.000000   10083.000000  \n",
       "max       47.777600   -121.315000    6210.000000  871200.000000  "
      ]
     },
     "execution_count": 5,
     "metadata": {},
     "output_type": "execute_result"
    }
   ],
   "source": [
    "df.describe()"
   ]
  },
  {
   "cell_type": "code",
   "execution_count": 6,
   "metadata": {
    "scrolled": true
   },
   "outputs": [
    {
     "name": "stdout",
     "output_type": "stream",
     "text": [
      "<class 'pandas.core.frame.DataFrame'>\n",
      "RangeIndex: 21597 entries, 0 to 21596\n",
      "Data columns (total 21 columns):\n",
      "id               21597 non-null int64\n",
      "date             21597 non-null object\n",
      "price            21597 non-null float64\n",
      "bedrooms         21597 non-null int64\n",
      "bathrooms        21597 non-null float64\n",
      "sqft_living      21597 non-null int64\n",
      "sqft_lot         21597 non-null int64\n",
      "floors           21597 non-null float64\n",
      "waterfront       19221 non-null float64\n",
      "view             21534 non-null float64\n",
      "condition        21597 non-null int64\n",
      "grade            21597 non-null int64\n",
      "sqft_above       21597 non-null int64\n",
      "sqft_basement    21597 non-null object\n",
      "yr_built         21597 non-null int64\n",
      "yr_renovated     17755 non-null float64\n",
      "zipcode          21597 non-null int64\n",
      "lat              21597 non-null float64\n",
      "long             21597 non-null float64\n",
      "sqft_living15    21597 non-null int64\n",
      "sqft_lot15       21597 non-null int64\n",
      "dtypes: float64(8), int64(11), object(2)\n",
      "memory usage: 3.5+ MB\n"
     ]
    }
   ],
   "source": [
    "df.info()"
   ]
  },
  {
   "cell_type": "markdown",
   "metadata": {},
   "source": [
    "Intial Observations:\n",
    "\n",
    "1. Sqft Basement and Date both need changes to be made to their data types. We will want to make date into a date time data type and Sqft basement into a numerical friendly type like float64\n",
    "\n",
    "2. In addition we can start to identify some of the categorical variables. For example it looks like waterfront is coded with a 1 or a 0 for whether or not their is a waterfront view.\n",
    "\n",
    "\n"
   ]
  },
  {
   "cell_type": "markdown",
   "metadata": {},
   "source": [
    "### Data Cleaning"
   ]
  },
  {
   "cell_type": "markdown",
   "metadata": {},
   "source": [
    "First, we will check to see if there are any NaN or other weird data integrity issues going on."
   ]
  },
  {
   "cell_type": "code",
   "execution_count": 7,
   "metadata": {},
   "outputs": [
    {
     "data": {
      "text/plain": [
       "id                  0\n",
       "date                0\n",
       "price               0\n",
       "bedrooms            0\n",
       "bathrooms           0\n",
       "sqft_living         0\n",
       "sqft_lot            0\n",
       "floors              0\n",
       "waterfront       2376\n",
       "view               63\n",
       "condition           0\n",
       "grade               0\n",
       "sqft_above          0\n",
       "sqft_basement       0\n",
       "yr_built            0\n",
       "yr_renovated     3842\n",
       "zipcode             0\n",
       "lat                 0\n",
       "long                0\n",
       "sqft_living15       0\n",
       "sqft_lot15          0\n",
       "dtype: int64"
      ]
     },
     "execution_count": 7,
     "metadata": {},
     "output_type": "execute_result"
    }
   ],
   "source": [
    "df.isna().sum() #We see here that we will have to take a look at the following variables due to have Null or NaN values."
   ]
  },
  {
   "cell_type": "markdown",
   "metadata": {},
   "source": [
    "We see that there are three variables that have NaN values and need to be delt with. "
   ]
  },
  {
   "cell_type": "code",
   "execution_count": 8,
   "metadata": {
    "scrolled": true
   },
   "outputs": [
    {
     "data": {
      "text/plain": [
       "17011"
      ]
     },
     "execution_count": 8,
     "metadata": {},
     "output_type": "execute_result"
    }
   ],
   "source": [
    "sum((df.yr_renovated==0))"
   ]
  },
  {
   "cell_type": "markdown",
   "metadata": {},
   "source": [
    "There are 17011 instances of yr_renovated being 0 therefore we will fill this variables NaN's with zeroes"
   ]
  },
  {
   "cell_type": "markdown",
   "metadata": {},
   "source": [
    "As for view we will assume that setting view equal to 0 for the 63 instances will not weigh significantly on our data later on during modeling. "
   ]
  },
  {
   "cell_type": "markdown",
   "metadata": {},
   "source": [
    "As for waterfront, a 0 represents no view of waterfront and 1 represents a view of a waterfront. Therefore we will make the 2,376 records with NaN into zeroes also.\n",
    "\n",
    "We will replace the three NaN affected variables with zeroes now. "
   ]
  },
  {
   "cell_type": "code",
   "execution_count": 9,
   "metadata": {},
   "outputs": [],
   "source": [
    "for i in df:\n",
    "    df.replace(np.NaN, 0 , inplace=True)"
   ]
  },
  {
   "cell_type": "markdown",
   "metadata": {},
   "source": [
    "I decided to replace all of the NaN values with the string 'NaN'"
   ]
  },
  {
   "cell_type": "code",
   "execution_count": 10,
   "metadata": {},
   "outputs": [
    {
     "data": {
      "text/plain": [
       "id               0\n",
       "date             0\n",
       "price            0\n",
       "bedrooms         0\n",
       "bathrooms        0\n",
       "sqft_living      0\n",
       "sqft_lot         0\n",
       "floors           0\n",
       "waterfront       0\n",
       "view             0\n",
       "condition        0\n",
       "grade            0\n",
       "sqft_above       0\n",
       "sqft_basement    0\n",
       "yr_built         0\n",
       "yr_renovated     0\n",
       "zipcode          0\n",
       "lat              0\n",
       "long             0\n",
       "sqft_living15    0\n",
       "sqft_lot15       0\n",
       "dtype: int64"
      ]
     },
     "execution_count": 10,
     "metadata": {},
     "output_type": "execute_result"
    }
   ],
   "source": [
    "df.isna().sum() #cleaned all data, there are no more NaN's"
   ]
  },
  {
   "cell_type": "markdown",
   "metadata": {},
   "source": [
    "### Categorical Var Cleaning"
   ]
  },
  {
   "cell_type": "markdown",
   "metadata": {},
   "source": [
    "Here is the start of breaking up our categorical variables and our numerical or quantitative variables. First we will have to decide which cat vars we will use one hot coding or if we will manually bin them. "
   ]
  },
  {
   "cell_type": "code",
   "execution_count": 11,
   "metadata": {},
   "outputs": [
    {
     "name": "stdout",
     "output_type": "stream",
     "text": [
      "<class 'pandas.core.frame.DataFrame'>\n",
      "RangeIndex: 21597 entries, 0 to 21596\n",
      "Data columns (total 11 columns):\n",
      "waterfront      21597 non-null float64\n",
      "condition       21597 non-null int64\n",
      "view            21597 non-null float64\n",
      "floors          21597 non-null float64\n",
      "zipcode         21597 non-null int64\n",
      "date            21597 non-null object\n",
      "grade           21597 non-null int64\n",
      "yr_built        21597 non-null int64\n",
      "yr_renovated    21597 non-null float64\n",
      "bedrooms        21597 non-null int64\n",
      "bathrooms       21597 non-null float64\n",
      "dtypes: float64(5), int64(5), object(1)\n",
      "memory usage: 1.8+ MB\n"
     ]
    }
   ],
   "source": [
    "df_cat=df[['waterfront','condition','view','floors','zipcode','date','grade','yr_built','yr_renovated','bedrooms','bathrooms']]\n",
    "\n",
    "df_cat.info()"
   ]
  },
  {
   "cell_type": "code",
   "execution_count": 12,
   "metadata": {},
   "outputs": [
    {
     "name": "stderr",
     "output_type": "stream",
     "text": [
      "/anaconda3/lib/python3.7/site-packages/pandas/core/indexing.py:543: SettingWithCopyWarning: \n",
      "A value is trying to be set on a copy of a slice from a DataFrame.\n",
      "Try using .loc[row_indexer,col_indexer] = value instead\n",
      "\n",
      "See the caveats in the documentation: http://pandas.pydata.org/pandas-docs/stable/indexing.html#indexing-view-versus-copy\n",
      "  self.obj[item] = s\n"
     ]
    }
   ],
   "source": [
    "#Cleaning variables to ensure categorical variables are not taken up as being numerical.\n",
    "df_cat.loc[:,('waterfront')]= df['waterfront'].astype('category')\n",
    "df_cat.loc[:,('condition')]= df['condition'].astype(\"category\")\n",
    "df_cat.loc[:,('view')]= df['view'].astype(\"category\")\n",
    "df_cat.loc[:,('floors')]= df['floors'].astype(\"category\")\n",
    "df_cat.loc[:,('zipcode')]= df['zipcode'].astype(\"category\")\n",
    "df_cat.loc[:,('grade')] = df['grade'].astype('category')\n",
    "df_cat.loc[:,('yr_built')] = df['yr_built'].astype('category')\n",
    "df_cat.loc[:,('bedrooms')]= df['bedrooms'].astype('category')\n",
    "df_cat.loc[:,('bathrooms')]= df['bathrooms'].astype('category')\n",
    "df_cat.loc[:,('yr_renovated')]=df['yr_renovated'].astype('category')"
   ]
  },
  {
   "cell_type": "code",
   "execution_count": 14,
   "metadata": {},
   "outputs": [
    {
     "name": "stdout",
     "output_type": "stream",
     "text": [
      "<class 'pandas.core.frame.DataFrame'>\n",
      "RangeIndex: 21597 entries, 0 to 21596\n",
      "Data columns (total 11 columns):\n",
      "waterfront      21597 non-null category\n",
      "condition       21597 non-null category\n",
      "view            21597 non-null category\n",
      "floors          21597 non-null category\n",
      "zipcode         21597 non-null category\n",
      "date            21597 non-null object\n",
      "grade           21597 non-null category\n",
      "yr_built        21597 non-null category\n",
      "yr_renovated    21597 non-null category\n",
      "bedrooms        21597 non-null category\n",
      "bathrooms       21597 non-null category\n",
      "dtypes: category(10), object(1)\n",
      "memory usage: 394.7+ KB\n"
     ]
    }
   ],
   "source": [
    "df_cat.info()"
   ]
  },
  {
   "cell_type": "markdown",
   "metadata": {},
   "source": [
    "One hot coding will not work for any variables with data that has many unique values because then we would have way too many rows"
   ]
  },
  {
   "cell_type": "markdown",
   "metadata": {},
   "source": [
    "Therefore, we will code a few of our variables using binning techiniques."
   ]
  },
  {
   "cell_type": "code",
   "execution_count": 15,
   "metadata": {},
   "outputs": [
    {
     "data": {
      "text/plain": [
       "count    21597.000000\n",
       "mean      1970.999676\n",
       "std         29.375234\n",
       "min       1900.000000\n",
       "25%       1951.000000\n",
       "50%       1975.000000\n",
       "75%       1997.000000\n",
       "max       2015.000000\n",
       "Name: yr_built, dtype: float64"
      ]
     },
     "execution_count": 15,
     "metadata": {},
     "output_type": "execute_result"
    }
   ],
   "source": [
    "df['yr_built'].describe()"
   ]
  },
  {
   "cell_type": "code",
   "execution_count": 16,
   "metadata": {},
   "outputs": [
    {
     "name": "stderr",
     "output_type": "stream",
     "text": [
      "/anaconda3/lib/python3.7/site-packages/ipykernel_launcher.py:3: SettingWithCopyWarning: \n",
      "A value is trying to be set on a copy of a slice from a DataFrame.\n",
      "Try using .loc[row_indexer,col_indexer] = value instead\n",
      "\n",
      "See the caveats in the documentation: http://pandas.pydata.org/pandas-docs/stable/indexing.html#indexing-view-versus-copy\n",
      "  This is separate from the ipykernel package so we can avoid doing imports until\n"
     ]
    }
   ],
   "source": [
    "bins = [1900,1910,1920,1930,1940,1950,1960,1970,1980,1990,2000,2015] \n",
    "year = ['1900-1910','1910-1920','1920-1930','1930-1940','1940-1950','1950-1960','1960-1970','1970-1980','1980-1990','1990-2000','2000-2015']\n",
    "df_cat['yr_built_new']=pd.cut(df_cat['yr_built'], bins= bins, labels=year)"
   ]
  },
  {
   "cell_type": "code",
   "execution_count": 17,
   "metadata": {},
   "outputs": [
    {
     "data": {
      "text/html": [
       "<div>\n",
       "<style scoped>\n",
       "    .dataframe tbody tr th:only-of-type {\n",
       "        vertical-align: middle;\n",
       "    }\n",
       "\n",
       "    .dataframe tbody tr th {\n",
       "        vertical-align: top;\n",
       "    }\n",
       "\n",
       "    .dataframe thead th {\n",
       "        text-align: right;\n",
       "    }\n",
       "</style>\n",
       "<table border=\"1\" class=\"dataframe\">\n",
       "  <thead>\n",
       "    <tr style=\"text-align: right;\">\n",
       "      <th></th>\n",
       "      <th>waterfront</th>\n",
       "      <th>condition</th>\n",
       "      <th>view</th>\n",
       "      <th>floors</th>\n",
       "      <th>zipcode</th>\n",
       "      <th>date</th>\n",
       "      <th>grade</th>\n",
       "      <th>yr_built</th>\n",
       "      <th>yr_renovated</th>\n",
       "      <th>bedrooms</th>\n",
       "      <th>bathrooms</th>\n",
       "      <th>yr_built_new</th>\n",
       "    </tr>\n",
       "  </thead>\n",
       "  <tbody>\n",
       "    <tr>\n",
       "      <th>0</th>\n",
       "      <td>0.0</td>\n",
       "      <td>3</td>\n",
       "      <td>0.0</td>\n",
       "      <td>1.0</td>\n",
       "      <td>98178</td>\n",
       "      <td>10/13/2014</td>\n",
       "      <td>7</td>\n",
       "      <td>1955</td>\n",
       "      <td>0.0</td>\n",
       "      <td>3</td>\n",
       "      <td>1.00</td>\n",
       "      <td>1950-1960</td>\n",
       "    </tr>\n",
       "    <tr>\n",
       "      <th>1</th>\n",
       "      <td>0.0</td>\n",
       "      <td>3</td>\n",
       "      <td>0.0</td>\n",
       "      <td>2.0</td>\n",
       "      <td>98125</td>\n",
       "      <td>12/9/2014</td>\n",
       "      <td>7</td>\n",
       "      <td>1951</td>\n",
       "      <td>1991.0</td>\n",
       "      <td>3</td>\n",
       "      <td>2.25</td>\n",
       "      <td>1950-1960</td>\n",
       "    </tr>\n",
       "    <tr>\n",
       "      <th>2</th>\n",
       "      <td>0.0</td>\n",
       "      <td>3</td>\n",
       "      <td>0.0</td>\n",
       "      <td>1.0</td>\n",
       "      <td>98028</td>\n",
       "      <td>2/25/2015</td>\n",
       "      <td>6</td>\n",
       "      <td>1933</td>\n",
       "      <td>0.0</td>\n",
       "      <td>2</td>\n",
       "      <td>1.00</td>\n",
       "      <td>1930-1940</td>\n",
       "    </tr>\n",
       "    <tr>\n",
       "      <th>3</th>\n",
       "      <td>0.0</td>\n",
       "      <td>5</td>\n",
       "      <td>0.0</td>\n",
       "      <td>1.0</td>\n",
       "      <td>98136</td>\n",
       "      <td>12/9/2014</td>\n",
       "      <td>7</td>\n",
       "      <td>1965</td>\n",
       "      <td>0.0</td>\n",
       "      <td>4</td>\n",
       "      <td>3.00</td>\n",
       "      <td>1960-1970</td>\n",
       "    </tr>\n",
       "    <tr>\n",
       "      <th>4</th>\n",
       "      <td>0.0</td>\n",
       "      <td>3</td>\n",
       "      <td>0.0</td>\n",
       "      <td>1.0</td>\n",
       "      <td>98074</td>\n",
       "      <td>2/18/2015</td>\n",
       "      <td>8</td>\n",
       "      <td>1987</td>\n",
       "      <td>0.0</td>\n",
       "      <td>3</td>\n",
       "      <td>2.00</td>\n",
       "      <td>1980-1990</td>\n",
       "    </tr>\n",
       "  </tbody>\n",
       "</table>\n",
       "</div>"
      ],
      "text/plain": [
       "  waterfront condition view floors zipcode        date grade yr_built  \\\n",
       "0        0.0         3  0.0    1.0   98178  10/13/2014     7     1955   \n",
       "1        0.0         3  0.0    2.0   98125   12/9/2014     7     1951   \n",
       "2        0.0         3  0.0    1.0   98028   2/25/2015     6     1933   \n",
       "3        0.0         5  0.0    1.0   98136   12/9/2014     7     1965   \n",
       "4        0.0         3  0.0    1.0   98074   2/18/2015     8     1987   \n",
       "\n",
       "  yr_renovated bedrooms bathrooms yr_built_new  \n",
       "0          0.0        3      1.00    1950-1960  \n",
       "1       1991.0        3      2.25    1950-1960  \n",
       "2          0.0        2      1.00    1930-1940  \n",
       "3          0.0        4      3.00    1960-1970  \n",
       "4          0.0        3      2.00    1980-1990  "
      ]
     },
     "execution_count": 17,
     "metadata": {},
     "output_type": "execute_result"
    }
   ],
   "source": [
    "df_cat.head()\n",
    "#Check to make sure our new binned variable worked. "
   ]
  },
  {
   "cell_type": "markdown",
   "metadata": {},
   "source": [
    "We will do the same for year renovated! But instead of binning by year we will bin by whether or not the house was ever renovated. "
   ]
  },
  {
   "cell_type": "code",
   "execution_count": 18,
   "metadata": {},
   "outputs": [],
   "source": [
    "df_cat=df_cat.drop('yr_built',axis=1)"
   ]
  },
  {
   "cell_type": "code",
   "execution_count": 19,
   "metadata": {},
   "outputs": [],
   "source": [
    "bins1 = [-1,0,df.yr_renovated.max()] \n",
    "year1 = ['0','1']\n",
    "df_cat['yr_renovated']=pd.cut(df_cat['yr_renovated'], bins= bins1, labels=year1)"
   ]
  },
  {
   "cell_type": "code",
   "execution_count": 20,
   "metadata": {},
   "outputs": [
    {
     "data": {
      "text/html": [
       "<div>\n",
       "<style scoped>\n",
       "    .dataframe tbody tr th:only-of-type {\n",
       "        vertical-align: middle;\n",
       "    }\n",
       "\n",
       "    .dataframe tbody tr th {\n",
       "        vertical-align: top;\n",
       "    }\n",
       "\n",
       "    .dataframe thead th {\n",
       "        text-align: right;\n",
       "    }\n",
       "</style>\n",
       "<table border=\"1\" class=\"dataframe\">\n",
       "  <thead>\n",
       "    <tr style=\"text-align: right;\">\n",
       "      <th></th>\n",
       "      <th>waterfront</th>\n",
       "      <th>condition</th>\n",
       "      <th>view</th>\n",
       "      <th>floors</th>\n",
       "      <th>zipcode</th>\n",
       "      <th>date</th>\n",
       "      <th>grade</th>\n",
       "      <th>yr_renovated</th>\n",
       "      <th>bedrooms</th>\n",
       "      <th>bathrooms</th>\n",
       "      <th>yr_built_new</th>\n",
       "    </tr>\n",
       "  </thead>\n",
       "  <tbody>\n",
       "    <tr>\n",
       "      <th>0</th>\n",
       "      <td>0.0</td>\n",
       "      <td>3</td>\n",
       "      <td>0.0</td>\n",
       "      <td>1.0</td>\n",
       "      <td>98178</td>\n",
       "      <td>10/13/2014</td>\n",
       "      <td>7</td>\n",
       "      <td>0</td>\n",
       "      <td>3</td>\n",
       "      <td>1.00</td>\n",
       "      <td>1950-1960</td>\n",
       "    </tr>\n",
       "    <tr>\n",
       "      <th>1</th>\n",
       "      <td>0.0</td>\n",
       "      <td>3</td>\n",
       "      <td>0.0</td>\n",
       "      <td>2.0</td>\n",
       "      <td>98125</td>\n",
       "      <td>12/9/2014</td>\n",
       "      <td>7</td>\n",
       "      <td>1</td>\n",
       "      <td>3</td>\n",
       "      <td>2.25</td>\n",
       "      <td>1950-1960</td>\n",
       "    </tr>\n",
       "    <tr>\n",
       "      <th>2</th>\n",
       "      <td>0.0</td>\n",
       "      <td>3</td>\n",
       "      <td>0.0</td>\n",
       "      <td>1.0</td>\n",
       "      <td>98028</td>\n",
       "      <td>2/25/2015</td>\n",
       "      <td>6</td>\n",
       "      <td>0</td>\n",
       "      <td>2</td>\n",
       "      <td>1.00</td>\n",
       "      <td>1930-1940</td>\n",
       "    </tr>\n",
       "    <tr>\n",
       "      <th>3</th>\n",
       "      <td>0.0</td>\n",
       "      <td>5</td>\n",
       "      <td>0.0</td>\n",
       "      <td>1.0</td>\n",
       "      <td>98136</td>\n",
       "      <td>12/9/2014</td>\n",
       "      <td>7</td>\n",
       "      <td>0</td>\n",
       "      <td>4</td>\n",
       "      <td>3.00</td>\n",
       "      <td>1960-1970</td>\n",
       "    </tr>\n",
       "    <tr>\n",
       "      <th>4</th>\n",
       "      <td>0.0</td>\n",
       "      <td>3</td>\n",
       "      <td>0.0</td>\n",
       "      <td>1.0</td>\n",
       "      <td>98074</td>\n",
       "      <td>2/18/2015</td>\n",
       "      <td>8</td>\n",
       "      <td>0</td>\n",
       "      <td>3</td>\n",
       "      <td>2.00</td>\n",
       "      <td>1980-1990</td>\n",
       "    </tr>\n",
       "  </tbody>\n",
       "</table>\n",
       "</div>"
      ],
      "text/plain": [
       "  waterfront condition view floors zipcode        date grade yr_renovated  \\\n",
       "0        0.0         3  0.0    1.0   98178  10/13/2014     7            0   \n",
       "1        0.0         3  0.0    2.0   98125   12/9/2014     7            1   \n",
       "2        0.0         3  0.0    1.0   98028   2/25/2015     6            0   \n",
       "3        0.0         5  0.0    1.0   98136   12/9/2014     7            0   \n",
       "4        0.0         3  0.0    1.0   98074   2/18/2015     8            0   \n",
       "\n",
       "  bedrooms bathrooms yr_built_new  \n",
       "0        3      1.00    1950-1960  \n",
       "1        3      2.25    1950-1960  \n",
       "2        2      1.00    1930-1940  \n",
       "3        4      3.00    1960-1970  \n",
       "4        3      2.00    1980-1990  "
      ]
     },
     "execution_count": 20,
     "metadata": {},
     "output_type": "execute_result"
    }
   ],
   "source": [
    "df_cat.head()"
   ]
  },
  {
   "cell_type": "code",
   "execution_count": 21,
   "metadata": {
    "scrolled": true
   },
   "outputs": [],
   "source": [
    "dummies=df_cat[['waterfront','condition','view','floors','grade','bedrooms','zipcode','bathrooms','yr_built_new','yr_renovated']]\n",
    "dummy_cat=pd.get_dummies(dummies,dtype='int64')"
   ]
  },
  {
   "cell_type": "code",
   "execution_count": 22,
   "metadata": {},
   "outputs": [
    {
     "data": {
      "text/html": [
       "<div>\n",
       "<style scoped>\n",
       "    .dataframe tbody tr th:only-of-type {\n",
       "        vertical-align: middle;\n",
       "    }\n",
       "\n",
       "    .dataframe tbody tr th {\n",
       "        vertical-align: top;\n",
       "    }\n",
       "\n",
       "    .dataframe thead th {\n",
       "        text-align: right;\n",
       "    }\n",
       "</style>\n",
       "<table border=\"1\" class=\"dataframe\">\n",
       "  <thead>\n",
       "    <tr style=\"text-align: right;\">\n",
       "      <th></th>\n",
       "      <th>waterfront_0.0</th>\n",
       "      <th>waterfront_1.0</th>\n",
       "      <th>condition_1</th>\n",
       "      <th>condition_2</th>\n",
       "      <th>condition_3</th>\n",
       "      <th>condition_4</th>\n",
       "      <th>condition_5</th>\n",
       "      <th>view_0.0</th>\n",
       "      <th>view_1.0</th>\n",
       "      <th>view_2.0</th>\n",
       "      <th>...</th>\n",
       "      <th>yr_built_new_1930-1940</th>\n",
       "      <th>yr_built_new_1940-1950</th>\n",
       "      <th>yr_built_new_1950-1960</th>\n",
       "      <th>yr_built_new_1960-1970</th>\n",
       "      <th>yr_built_new_1970-1980</th>\n",
       "      <th>yr_built_new_1980-1990</th>\n",
       "      <th>yr_built_new_1990-2000</th>\n",
       "      <th>yr_built_new_2000-2015</th>\n",
       "      <th>yr_renovated_0</th>\n",
       "      <th>yr_renovated_1</th>\n",
       "    </tr>\n",
       "  </thead>\n",
       "  <tbody>\n",
       "    <tr>\n",
       "      <th>0</th>\n",
       "      <td>1</td>\n",
       "      <td>0</td>\n",
       "      <td>0</td>\n",
       "      <td>0</td>\n",
       "      <td>1</td>\n",
       "      <td>0</td>\n",
       "      <td>0</td>\n",
       "      <td>1</td>\n",
       "      <td>0</td>\n",
       "      <td>0</td>\n",
       "      <td>...</td>\n",
       "      <td>0</td>\n",
       "      <td>0</td>\n",
       "      <td>1</td>\n",
       "      <td>0</td>\n",
       "      <td>0</td>\n",
       "      <td>0</td>\n",
       "      <td>0</td>\n",
       "      <td>0</td>\n",
       "      <td>1</td>\n",
       "      <td>0</td>\n",
       "    </tr>\n",
       "    <tr>\n",
       "      <th>1</th>\n",
       "      <td>1</td>\n",
       "      <td>0</td>\n",
       "      <td>0</td>\n",
       "      <td>0</td>\n",
       "      <td>1</td>\n",
       "      <td>0</td>\n",
       "      <td>0</td>\n",
       "      <td>1</td>\n",
       "      <td>0</td>\n",
       "      <td>0</td>\n",
       "      <td>...</td>\n",
       "      <td>0</td>\n",
       "      <td>0</td>\n",
       "      <td>1</td>\n",
       "      <td>0</td>\n",
       "      <td>0</td>\n",
       "      <td>0</td>\n",
       "      <td>0</td>\n",
       "      <td>0</td>\n",
       "      <td>0</td>\n",
       "      <td>1</td>\n",
       "    </tr>\n",
       "    <tr>\n",
       "      <th>2</th>\n",
       "      <td>1</td>\n",
       "      <td>0</td>\n",
       "      <td>0</td>\n",
       "      <td>0</td>\n",
       "      <td>1</td>\n",
       "      <td>0</td>\n",
       "      <td>0</td>\n",
       "      <td>1</td>\n",
       "      <td>0</td>\n",
       "      <td>0</td>\n",
       "      <td>...</td>\n",
       "      <td>1</td>\n",
       "      <td>0</td>\n",
       "      <td>0</td>\n",
       "      <td>0</td>\n",
       "      <td>0</td>\n",
       "      <td>0</td>\n",
       "      <td>0</td>\n",
       "      <td>0</td>\n",
       "      <td>1</td>\n",
       "      <td>0</td>\n",
       "    </tr>\n",
       "    <tr>\n",
       "      <th>3</th>\n",
       "      <td>1</td>\n",
       "      <td>0</td>\n",
       "      <td>0</td>\n",
       "      <td>0</td>\n",
       "      <td>0</td>\n",
       "      <td>0</td>\n",
       "      <td>1</td>\n",
       "      <td>1</td>\n",
       "      <td>0</td>\n",
       "      <td>0</td>\n",
       "      <td>...</td>\n",
       "      <td>0</td>\n",
       "      <td>0</td>\n",
       "      <td>0</td>\n",
       "      <td>1</td>\n",
       "      <td>0</td>\n",
       "      <td>0</td>\n",
       "      <td>0</td>\n",
       "      <td>0</td>\n",
       "      <td>1</td>\n",
       "      <td>0</td>\n",
       "    </tr>\n",
       "    <tr>\n",
       "      <th>4</th>\n",
       "      <td>1</td>\n",
       "      <td>0</td>\n",
       "      <td>0</td>\n",
       "      <td>0</td>\n",
       "      <td>1</td>\n",
       "      <td>0</td>\n",
       "      <td>0</td>\n",
       "      <td>1</td>\n",
       "      <td>0</td>\n",
       "      <td>0</td>\n",
       "      <td>...</td>\n",
       "      <td>0</td>\n",
       "      <td>0</td>\n",
       "      <td>0</td>\n",
       "      <td>0</td>\n",
       "      <td>0</td>\n",
       "      <td>1</td>\n",
       "      <td>0</td>\n",
       "      <td>0</td>\n",
       "      <td>1</td>\n",
       "      <td>0</td>\n",
       "    </tr>\n",
       "  </tbody>\n",
       "</table>\n",
       "<p>5 rows × 153 columns</p>\n",
       "</div>"
      ],
      "text/plain": [
       "   waterfront_0.0  waterfront_1.0  condition_1  condition_2  condition_3  \\\n",
       "0               1               0            0            0            1   \n",
       "1               1               0            0            0            1   \n",
       "2               1               0            0            0            1   \n",
       "3               1               0            0            0            0   \n",
       "4               1               0            0            0            1   \n",
       "\n",
       "   condition_4  condition_5  view_0.0  view_1.0  view_2.0       ...        \\\n",
       "0            0            0         1         0         0       ...         \n",
       "1            0            0         1         0         0       ...         \n",
       "2            0            0         1         0         0       ...         \n",
       "3            0            1         1         0         0       ...         \n",
       "4            0            0         1         0         0       ...         \n",
       "\n",
       "   yr_built_new_1930-1940  yr_built_new_1940-1950  yr_built_new_1950-1960  \\\n",
       "0                       0                       0                       1   \n",
       "1                       0                       0                       1   \n",
       "2                       1                       0                       0   \n",
       "3                       0                       0                       0   \n",
       "4                       0                       0                       0   \n",
       "\n",
       "   yr_built_new_1960-1970  yr_built_new_1970-1980  yr_built_new_1980-1990  \\\n",
       "0                       0                       0                       0   \n",
       "1                       0                       0                       0   \n",
       "2                       0                       0                       0   \n",
       "3                       1                       0                       0   \n",
       "4                       0                       0                       1   \n",
       "\n",
       "   yr_built_new_1990-2000  yr_built_new_2000-2015  yr_renovated_0  \\\n",
       "0                       0                       0               1   \n",
       "1                       0                       0               0   \n",
       "2                       0                       0               1   \n",
       "3                       0                       0               1   \n",
       "4                       0                       0               1   \n",
       "\n",
       "   yr_renovated_1  \n",
       "0               0  \n",
       "1               1  \n",
       "2               0  \n",
       "3               0  \n",
       "4               0  \n",
       "\n",
       "[5 rows x 153 columns]"
      ]
     },
     "execution_count": 22,
     "metadata": {},
     "output_type": "execute_result"
    }
   ],
   "source": [
    "dummy_cat.head()"
   ]
  },
  {
   "cell_type": "markdown",
   "metadata": {},
   "source": [
    "The last thing that needs to be done is the dat needs to be changed to a date time object.  This can easily be done with the following method, pd.to_datetime()"
   ]
  },
  {
   "cell_type": "code",
   "execution_count": 23,
   "metadata": {},
   "outputs": [],
   "source": [
    "df_date=pd.to_datetime(df_cat.date)"
   ]
  },
  {
   "cell_type": "code",
   "execution_count": 25,
   "metadata": {},
   "outputs": [
    {
     "name": "stdout",
     "output_type": "stream",
     "text": [
      "<class 'pandas.core.frame.DataFrame'>\n",
      "RangeIndex: 21597 entries, 0 to 21596\n",
      "Columns: 154 entries, waterfront_0.0 to date\n",
      "dtypes: datetime64[ns](1), int64(153)\n",
      "memory usage: 25.4 MB\n"
     ]
    }
   ],
   "source": [
    "#STILL NEED TO JOIN THE DATE INTO DUMMY DF\n",
    "concat=[dummy_cat,df_date]\n",
    "df_cat_final= pd.concat(concat, axis=1)\n",
    "df_cat_final.info()"
   ]
  },
  {
   "cell_type": "markdown",
   "metadata": {},
   "source": [
    "### Numerical Data Cleaning"
   ]
  },
  {
   "cell_type": "code",
   "execution_count": 26,
   "metadata": {},
   "outputs": [],
   "source": [
    "df_num= df[['price','sqft_living','sqft_lot','sqft_basement','sqft_lot15']]"
   ]
  },
  {
   "cell_type": "markdown",
   "metadata": {},
   "source": [
    "We noticed earlier that we had a question mark in our sqft_basement so we are going to handle that situation now by replacing it with a zero."
   ]
  },
  {
   "cell_type": "code",
   "execution_count": 27,
   "metadata": {},
   "outputs": [
    {
     "name": "stderr",
     "output_type": "stream",
     "text": [
      "/anaconda3/lib/python3.7/site-packages/pandas/core/generic.py:5890: SettingWithCopyWarning: \n",
      "A value is trying to be set on a copy of a slice from a DataFrame\n",
      "\n",
      "See the caveats in the documentation: http://pandas.pydata.org/pandas-docs/stable/indexing.html#indexing-view-versus-copy\n",
      "  self._update_inplace(new_data)\n"
     ]
    }
   ],
   "source": [
    "df_num['sqft_basement'].replace(to_replace='?', value= 0, inplace=True)\n",
    "# df[df['sqft_basement']=='?']= '0'\n",
    "df_num.loc[:,('sqft_basement')]=df_num['sqft_basement'].astype('float64')\n"
   ]
  },
  {
   "cell_type": "code",
   "execution_count": 28,
   "metadata": {},
   "outputs": [
    {
     "name": "stdout",
     "output_type": "stream",
     "text": [
      "<class 'pandas.core.frame.DataFrame'>\n",
      "RangeIndex: 21597 entries, 0 to 21596\n",
      "Data columns (total 5 columns):\n",
      "price            21597 non-null float64\n",
      "sqft_living      21597 non-null int64\n",
      "sqft_lot         21597 non-null int64\n",
      "sqft_basement    21597 non-null float64\n",
      "sqft_lot15       21597 non-null int64\n",
      "dtypes: float64(2), int64(3)\n",
      "memory usage: 843.7 KB\n"
     ]
    }
   ],
   "source": [
    "df_num.info()"
   ]
  },
  {
   "cell_type": "code",
   "execution_count": 29,
   "metadata": {},
   "outputs": [
    {
     "data": {
      "text/plain": [
       "<matplotlib.axes._subplots.AxesSubplot at 0x1c23fecbe0>"
      ]
     },
     "execution_count": 29,
     "metadata": {},
     "output_type": "execute_result"
    },
    {
     "data": {
      "image/png": "[encoded data removed]",
      "text/plain": [
       "<Figure size 1080x720 with 5 Axes>"
      ]
     },
     "metadata": {
      "needs_background": "light"
     },
     "output_type": "display_data"
    }
   ],
   "source": [
    "#Now we want to look for outliers in our numerical data\n",
    "\n",
    "plt.figure(figsize=(15,10))\n",
    "plt.subplot(331)\n",
    "sns.boxplot(df_num['price'])\n",
    "plt.subplot(332)\n",
    "sns.boxplot(df_num['sqft_living'])\n",
    "plt.subplot(333)\n",
    "sns.boxplot(df_num['sqft_lot'])\n",
    "plt.subplot(334)\n",
    "sns.boxplot(df_num['sqft_basement'])\n",
    "plt.subplot(335)\n",
    "sns.boxplot(df_num['sqft_lot15'])\n",
    "\n",
    "\n"
   ]
  },
  {
   "cell_type": "markdown",
   "metadata": {},
   "source": [
    "Here we are going to take out outliers we saw in our data and from analysis done prior."
   ]
  },
  {
   "cell_type": "code",
   "execution_count": 30,
   "metadata": {},
   "outputs": [],
   "source": [
    "df_num_final=df_num.loc[df_num['price']<=1500000,:]\n",
    "df_num_final=df_num.loc[df_num['sqft_living']<= 5000,:]\n",
    "df_num_final=df_num.loc[df_num['sqft_lot']<= 150000,:]\n",
    "df_num_final=df_num.loc[df_num['sqft_lot15']<= 150000,:]\n",
    "df_num_final=df_num.loc[df_num['sqft_basement']<= 1800,:]\n"
   ]
  },
  {
   "cell_type": "code",
   "execution_count": 31,
   "metadata": {
    "scrolled": false
   },
   "outputs": [
    {
     "name": "stdout",
     "output_type": "stream",
     "text": [
      "<class 'pandas.core.frame.DataFrame'>\n",
      "RangeIndex: 21597 entries, 0 to 21596\n",
      "Data columns (total 5 columns):\n",
      "price            21597 non-null float64\n",
      "sqft_living      21597 non-null int64\n",
      "sqft_lot         21597 non-null int64\n",
      "sqft_basement    21597 non-null float64\n",
      "sqft_lot15       21597 non-null int64\n",
      "dtypes: float64(2), int64(3)\n",
      "memory usage: 843.7 KB\n"
     ]
    }
   ],
   "source": [
    "#Double Check variables got changed\n",
    "df_num.info()\n",
    "#We see that we now only have 20334 data points for each variable\n"
   ]
  },
  {
   "cell_type": "code",
   "execution_count": 32,
   "metadata": {},
   "outputs": [],
   "source": [
    "#seperating out the target variable\n",
    "targ_var=df_num['price']\n",
    "\n",
    "df_num_final=df_num"
   ]
  },
  {
   "cell_type": "markdown",
   "metadata": {},
   "source": [
    "We are not going to look at the distros of sqft_living15 or sqft_above becuase due to multicollinearity they will be dropped later on in this notebook."
   ]
  },
  {
   "cell_type": "code",
   "execution_count": 33,
   "metadata": {
    "scrolled": true
   },
   "outputs": [
    {
     "name": "stderr",
     "output_type": "stream",
     "text": [
      "/anaconda3/lib/python3.7/site-packages/scipy/stats/stats.py:1713: FutureWarning: Using a non-tuple sequence for multidimensional indexing is deprecated; use `arr[tuple(seq)]` instead of `arr[seq]`. In the future this will be interpreted as an array index, `arr[np.array(seq)]`, which will result either in an error or a different result.\n",
      "  return np.add.reduce(sorted[indexer] * weights, axis=axis) / sumval\n"
     ]
    },
    {
     "data": {
      "text/plain": [
       "Text(0.5, 1.0, 'Sqft Basement Distribution')"
      ]
     },
     "execution_count": 33,
     "metadata": {},
     "output_type": "execute_result"
    },
    {
     "data": {
      "image/png": "[encoded data removed]",
      "text/plain": [
       "<Figure size 1080x720 with 3 Axes>"
      ]
     },
     "metadata": {
      "needs_background": "light"
     },
     "output_type": "display_data"
    }
   ],
   "source": [
    "# fig, axes = plt.subplots(nrows=4, ncols=4)\n",
    "plt.figure(figsize=(15,10))\n",
    "plt.subplot(331)\n",
    "sns.distplot(targ_var, label='Prices',color='blue')\n",
    "plt.title('Price Distribution')\n",
    "plt.legend()\n",
    "plt.subplot(332)\n",
    "sns.distplot(df_num.sqft_living, label='Sqft Living',color='red')\n",
    "plt.title('Sqft Living Distribution')\n",
    "plt.legend()\n",
    "plt.subplot(333)\n",
    "sns.distplot(df_num.sqft_basement, label='Sqft Basement', color='green')\n",
    "plt.legend()\n",
    "plt.title('Sqft Basement Distribution')\n"
   ]
  },
  {
   "cell_type": "code",
   "execution_count": 34,
   "metadata": {},
   "outputs": [
    {
     "data": {
      "text/plain": [
       "Text(0.5, 1.0, 'Sqft Lot15 Distribution')"
      ]
     },
     "execution_count": 34,
     "metadata": {},
     "output_type": "execute_result"
    },
    {
     "data": {
      "image/png": "[encoded data removed]",
      "text/plain": [
       "<Figure size 1080x720 with 2 Axes>"
      ]
     },
     "metadata": {
      "needs_background": "light"
     },
     "output_type": "display_data"
    }
   ],
   "source": [
    "plt.figure(figsize=(15,10))\n",
    "plt.subplot(334)\n",
    "sns.distplot(df_num.sqft_lot, label='Sqft Lot')\n",
    "plt.title('Sqft Lot Distribution')\n",
    "plt.xlim(0,125000)\n",
    "plt.legend()\n",
    "plt.subplot(335)\n",
    "sns.distplot(df_num.sqft_lot15, label='Sqft Lot15')\n",
    "plt.title('Sqft Lot15 Distribution')\n",
    "\n",
    "\n"
   ]
  },
  {
   "cell_type": "code",
   "execution_count": 39,
   "metadata": {
    "scrolled": true
   },
   "outputs": [
    {
     "data": {
      "text/html": [
       "<div>\n",
       "<style scoped>\n",
       "    .dataframe tbody tr th:only-of-type {\n",
       "        vertical-align: middle;\n",
       "    }\n",
       "\n",
       "    .dataframe tbody tr th {\n",
       "        vertical-align: top;\n",
       "    }\n",
       "\n",
       "    .dataframe thead th {\n",
       "        text-align: right;\n",
       "    }\n",
       "</style>\n",
       "<table border=\"1\" class=\"dataframe\">\n",
       "  <thead>\n",
       "    <tr style=\"text-align: right;\">\n",
       "      <th></th>\n",
       "      <th>price</th>\n",
       "      <th>sqft_living</th>\n",
       "      <th>sqft_lot</th>\n",
       "      <th>sqft_basement</th>\n",
       "      <th>sqft_lot15</th>\n",
       "    </tr>\n",
       "  </thead>\n",
       "  <tbody>\n",
       "    <tr>\n",
       "      <th>0</th>\n",
       "      <td>221900.0</td>\n",
       "      <td>-0.398887</td>\n",
       "      <td>-0.263432</td>\n",
       "      <td>0.0</td>\n",
       "      <td>-0.263432</td>\n",
       "    </tr>\n",
       "    <tr>\n",
       "      <th>1</th>\n",
       "      <td>538000.0</td>\n",
       "      <td>-0.324266</td>\n",
       "      <td>-0.246589</td>\n",
       "      <td>400.0</td>\n",
       "      <td>-0.243093</td>\n",
       "    </tr>\n",
       "    <tr>\n",
       "      <th>2</th>\n",
       "      <td>180000.0</td>\n",
       "      <td>-0.448273</td>\n",
       "      <td>-0.226080</td>\n",
       "      <td>0.0</td>\n",
       "      <td>-0.239606</td>\n",
       "    </tr>\n",
       "    <tr>\n",
       "      <th>3</th>\n",
       "      <td>604000.0</td>\n",
       "      <td>-0.348326</td>\n",
       "      <td>-0.272097</td>\n",
       "      <td>910.0</td>\n",
       "      <td>-0.272097</td>\n",
       "    </tr>\n",
       "    <tr>\n",
       "      <th>4</th>\n",
       "      <td>510000.0</td>\n",
       "      <td>-0.362873</td>\n",
       "      <td>-0.239463</td>\n",
       "      <td>0.0</td>\n",
       "      <td>-0.244265</td>\n",
       "    </tr>\n",
       "  </tbody>\n",
       "</table>\n",
       "</div>"
      ],
      "text/plain": [
       "      price  sqft_living  sqft_lot  sqft_basement  sqft_lot15\n",
       "0  221900.0    -0.398887 -0.263432            0.0   -0.263432\n",
       "1  538000.0    -0.324266 -0.246589          400.0   -0.243093\n",
       "2  180000.0    -0.448273 -0.226080            0.0   -0.239606\n",
       "3  604000.0    -0.348326 -0.272097          910.0   -0.272097\n",
       "4  510000.0    -0.362873 -0.239463            0.0   -0.244265"
      ]
     },
     "execution_count": 39,
     "metadata": {},
     "output_type": "execute_result"
    }
   ],
   "source": [
    "# price = np.log(df_num.price)\n",
    "df_num_final.sqft_living = np.log(df_num_final.sqft_living)\n",
    "df_num_final.sqft_lot = np.log(df_num_final.sqft_lot)\n",
    "df_num_final.sqft_lot15= np.log(df_num_final.sqft_lot15)\n",
    "# plt.figure(figsize=(10,4))\n",
    "\n",
    "# sns.distplot(sqft_living, label='Sqft Living')\n",
    "# sns.distplot(sqft_lot, label='Sqft Lot')\n",
    "# sns.distplot(sqft_lot15, label='Sqft Lot15')\n",
    "# plt.legend()\n",
    "df_num_final.head()"
   ]
  },
  {
   "cell_type": "code",
   "execution_count": 40,
   "metadata": {},
   "outputs": [
    {
     "ename": "NameError",
     "evalue": "name 'sqft_living' is not defined",
     "output_type": "error",
     "traceback": [
      "\u001b[0;31m---------------------------------------------------------------------------\u001b[0m",
      "\u001b[0;31mNameError\u001b[0m                                 Traceback (most recent call last)",
      "\u001b[0;32m<ipython-input-40-e812af6ebf79>\u001b[0m in \u001b[0;36m<module>\u001b[0;34m\u001b[0m\n\u001b[1;32m      1\u001b[0m \u001b[0;31m# targ_var = ( price - min(price) ) / ( max(price) - min(price) )\u001b[0m\u001b[0;34m\u001b[0m\u001b[0;34m\u001b[0m\u001b[0;34m\u001b[0m\u001b[0m\n\u001b[0;32m----> 2\u001b[0;31m \u001b[0mdf_num_final\u001b[0m\u001b[0;34m[\u001b[0m\u001b[0;34m'sqft_living'\u001b[0m\u001b[0;34m]\u001b[0m \u001b[0;34m=\u001b[0m \u001b[0;34m(\u001b[0m \u001b[0msqft_living\u001b[0m \u001b[0;34m-\u001b[0m \u001b[0mmin\u001b[0m\u001b[0;34m(\u001b[0m\u001b[0msqft_living\u001b[0m\u001b[0;34m)\u001b[0m \u001b[0;34m)\u001b[0m \u001b[0;34m/\u001b[0m \u001b[0;34m(\u001b[0m \u001b[0mmax\u001b[0m\u001b[0;34m(\u001b[0m\u001b[0msqft_living\u001b[0m\u001b[0;34m)\u001b[0m \u001b[0;34m-\u001b[0m \u001b[0mmin\u001b[0m\u001b[0;34m(\u001b[0m\u001b[0msqft_living\u001b[0m\u001b[0;34m)\u001b[0m \u001b[0;34m)\u001b[0m\u001b[0;34m\u001b[0m\u001b[0;34m\u001b[0m\u001b[0m\n\u001b[0m\u001b[1;32m      3\u001b[0m \u001b[0mdf_num_final\u001b[0m\u001b[0;34m[\u001b[0m\u001b[0;34m'sqft_lot'\u001b[0m\u001b[0;34m]\u001b[0m \u001b[0;34m=\u001b[0m \u001b[0;34m(\u001b[0m \u001b[0msqft_lot\u001b[0m \u001b[0;34m-\u001b[0m \u001b[0mmin\u001b[0m\u001b[0;34m(\u001b[0m\u001b[0msqft_lot\u001b[0m\u001b[0;34m)\u001b[0m \u001b[0;34m)\u001b[0m \u001b[0;34m/\u001b[0m \u001b[0;34m(\u001b[0m \u001b[0mmax\u001b[0m\u001b[0;34m(\u001b[0m\u001b[0msqft_lot\u001b[0m\u001b[0;34m)\u001b[0m \u001b[0;34m-\u001b[0m \u001b[0mmin\u001b[0m\u001b[0;34m(\u001b[0m\u001b[0msqft_lot\u001b[0m\u001b[0;34m)\u001b[0m \u001b[0;34m)\u001b[0m\u001b[0;34m\u001b[0m\u001b[0;34m\u001b[0m\u001b[0m\n",
      "\u001b[0;31mNameError\u001b[0m: name 'sqft_living' is not defined"
     ]
    }
   ],
   "source": [
    "# targ_var = ( price - min(price) ) / ( max(price) - min(price) )\n",
    "df_num_final['sqft_living'] = ( sqft_living - min(sqft_living) ) / ( max(sqft_living) - min(sqft_living) )\n",
    "df_num_final['sqft_lot'] = ( sqft_lot - min(sqft_lot) ) / ( max(sqft_lot) - min(sqft_lot) )"
   ]
  },
  {
   "cell_type": "code",
   "execution_count": 40,
   "metadata": {
    "scrolled": true
   },
   "outputs": [
    {
     "name": "stdout",
     "output_type": "stream",
     "text": [
      "<class 'pandas.core.frame.DataFrame'>\n",
      "RangeIndex: 20467 entries, 0 to 20466\n",
      "Data columns (total 8 columns):\n",
      "sqft_living      20467 non-null float64\n",
      "sqft_lot         20467 non-null float64\n",
      "sqft_above       20467 non-null float64\n",
      "sqft_basement    20467 non-null float64\n",
      "lat              20467 non-null float64\n",
      "long             20467 non-null float64\n",
      "sqft_living15    20467 non-null float64\n",
      "sqft_lot15       20467 non-null float64\n",
      "dtypes: float64(8)\n",
      "memory usage: 1.2 MB\n"
     ]
    },
    {
     "name": "stderr",
     "output_type": "stream",
     "text": [
      "/anaconda3/lib/python3.7/site-packages/sklearn/preprocessing/data.py:625: DataConversionWarning: Data with input dtype int64, float64 were all converted to float64 by StandardScaler.\n",
      "  return self.partial_fit(X, y)\n",
      "/anaconda3/lib/python3.7/site-packages/sklearn/base.py:462: DataConversionWarning: Data with input dtype int64, float64 were all converted to float64 by StandardScaler.\n",
      "  return self.fit(X, **fit_params).transform(X)\n"
     ]
    }
   ],
   "source": [
    "#Now we will normalize some data\n",
    "from sklearn import preprocessing\n",
    "\n",
    "# df_num_log=np.log(df_num)\n",
    "\n",
    "# scaler = preprocessing.StandardScaler()\n",
    "# scaled_df = scaler.fit_transform(df_num_final)\n",
    "# scaled_df = pd.DataFrame(scaled_df, columns= ['sqft_living','sqft_lot','sqft_above','sqft_basement','lat','long','sqft_living15','sqft_lot15'] )\n",
    "\n",
    "# scaled_df.head()\n",
    "# scaled_df.info()\n",
    "\n",
    "\n",
    "\n",
    "\n"
   ]
  },
  {
   "cell_type": "code",
   "execution_count": 41,
   "metadata": {
    "scrolled": true
   },
   "outputs": [
    {
     "data": {
      "text/html": [
       "<div>\n",
       "<style scoped>\n",
       "    .dataframe tbody tr th:only-of-type {\n",
       "        vertical-align: middle;\n",
       "    }\n",
       "\n",
       "    .dataframe tbody tr th {\n",
       "        vertical-align: top;\n",
       "    }\n",
       "\n",
       "    .dataframe thead th {\n",
       "        text-align: right;\n",
       "    }\n",
       "</style>\n",
       "<table border=\"1\" class=\"dataframe\">\n",
       "  <thead>\n",
       "    <tr style=\"text-align: right;\">\n",
       "      <th></th>\n",
       "      <th>waterfront_0.0</th>\n",
       "      <th>waterfront_1.0</th>\n",
       "      <th>condition_1</th>\n",
       "      <th>condition_2</th>\n",
       "      <th>condition_3</th>\n",
       "      <th>condition_4</th>\n",
       "      <th>condition_5</th>\n",
       "      <th>view_0.0</th>\n",
       "      <th>view_1.0</th>\n",
       "      <th>view_2.0</th>\n",
       "      <th>...</th>\n",
       "      <th>yr_built_new_1980-1990</th>\n",
       "      <th>yr_built_new_1990-2000</th>\n",
       "      <th>yr_built_new_2000-2015</th>\n",
       "      <th>yr_renovated_0</th>\n",
       "      <th>yr_renovated_1</th>\n",
       "      <th>price</th>\n",
       "      <th>sqft_living</th>\n",
       "      <th>sqft_lot</th>\n",
       "      <th>sqft_basement</th>\n",
       "      <th>sqft_lot15</th>\n",
       "    </tr>\n",
       "  </thead>\n",
       "  <tbody>\n",
       "    <tr>\n",
       "      <th>count</th>\n",
       "      <td>21597.000000</td>\n",
       "      <td>21597.000000</td>\n",
       "      <td>21597.000000</td>\n",
       "      <td>21597.000000</td>\n",
       "      <td>21597.000000</td>\n",
       "      <td>21597.000000</td>\n",
       "      <td>21597.000000</td>\n",
       "      <td>21597.000000</td>\n",
       "      <td>21597.000000</td>\n",
       "      <td>21597.000000</td>\n",
       "      <td>...</td>\n",
       "      <td>21597.000000</td>\n",
       "      <td>21597.000000</td>\n",
       "      <td>21597.000000</td>\n",
       "      <td>21597.000000</td>\n",
       "      <td>21597.000000</td>\n",
       "      <td>2.159700e+04</td>\n",
       "      <td>21597.000000</td>\n",
       "      <td>21597.000000</td>\n",
       "      <td>21597.000000</td>\n",
       "      <td>21597.000000</td>\n",
       "    </tr>\n",
       "    <tr>\n",
       "      <th>mean</th>\n",
       "      <td>0.993240</td>\n",
       "      <td>0.006760</td>\n",
       "      <td>0.001343</td>\n",
       "      <td>0.007871</td>\n",
       "      <td>0.649164</td>\n",
       "      <td>0.262861</td>\n",
       "      <td>0.078761</td>\n",
       "      <td>0.902209</td>\n",
       "      <td>0.015280</td>\n",
       "      <td>0.044312</td>\n",
       "      <td>...</td>\n",
       "      <td>0.109182</td>\n",
       "      <td>0.098764</td>\n",
       "      <td>0.210122</td>\n",
       "      <td>0.965551</td>\n",
       "      <td>0.034449</td>\n",
       "      <td>5.402966e+05</td>\n",
       "      <td>-0.353582</td>\n",
       "      <td>-0.245636</td>\n",
       "      <td>285.716581</td>\n",
       "      <td>-0.246489</td>\n",
       "    </tr>\n",
       "    <tr>\n",
       "      <th>std</th>\n",
       "      <td>0.081944</td>\n",
       "      <td>0.081944</td>\n",
       "      <td>0.036620</td>\n",
       "      <td>0.088373</td>\n",
       "      <td>0.477243</td>\n",
       "      <td>0.440198</td>\n",
       "      <td>0.269372</td>\n",
       "      <td>0.297039</td>\n",
       "      <td>0.122667</td>\n",
       "      <td>0.205792</td>\n",
       "      <td>...</td>\n",
       "      <td>0.311874</td>\n",
       "      <td>0.298351</td>\n",
       "      <td>0.407404</td>\n",
       "      <td>0.182384</td>\n",
       "      <td>0.182384</td>\n",
       "      <td>3.673681e+05</td>\n",
       "      <td>0.040200</td>\n",
       "      <td>0.057103</td>\n",
       "      <td>439.819830</td>\n",
       "      <td>0.051657</td>\n",
       "    </tr>\n",
       "    <tr>\n",
       "      <th>min</th>\n",
       "      <td>0.000000</td>\n",
       "      <td>0.000000</td>\n",
       "      <td>0.000000</td>\n",
       "      <td>0.000000</td>\n",
       "      <td>0.000000</td>\n",
       "      <td>0.000000</td>\n",
       "      <td>0.000000</td>\n",
       "      <td>0.000000</td>\n",
       "      <td>0.000000</td>\n",
       "      <td>0.000000</td>\n",
       "      <td>...</td>\n",
       "      <td>0.000000</td>\n",
       "      <td>0.000000</td>\n",
       "      <td>0.000000</td>\n",
       "      <td>0.000000</td>\n",
       "      <td>0.000000</td>\n",
       "      <td>7.800000e+04</td>\n",
       "      <td>-0.553280</td>\n",
       "      <td>-0.500777</td>\n",
       "      <td>0.000000</td>\n",
       "      <td>-0.469794</td>\n",
       "    </tr>\n",
       "    <tr>\n",
       "      <th>25%</th>\n",
       "      <td>1.000000</td>\n",
       "      <td>0.000000</td>\n",
       "      <td>0.000000</td>\n",
       "      <td>0.000000</td>\n",
       "      <td>0.000000</td>\n",
       "      <td>0.000000</td>\n",
       "      <td>0.000000</td>\n",
       "      <td>1.000000</td>\n",
       "      <td>0.000000</td>\n",
       "      <td>0.000000</td>\n",
       "      <td>...</td>\n",
       "      <td>0.000000</td>\n",
       "      <td>0.000000</td>\n",
       "      <td>0.000000</td>\n",
       "      <td>1.000000</td>\n",
       "      <td>0.000000</td>\n",
       "      <td>3.220000e+05</td>\n",
       "      <td>-0.378811</td>\n",
       "      <td>-0.271524</td>\n",
       "      <td>0.000000</td>\n",
       "      <td>-0.270675</td>\n",
       "    </tr>\n",
       "    <tr>\n",
       "      <th>50%</th>\n",
       "      <td>1.000000</td>\n",
       "      <td>0.000000</td>\n",
       "      <td>0.000000</td>\n",
       "      <td>0.000000</td>\n",
       "      <td>1.000000</td>\n",
       "      <td>0.000000</td>\n",
       "      <td>0.000000</td>\n",
       "      <td>1.000000</td>\n",
       "      <td>0.000000</td>\n",
       "      <td>0.000000</td>\n",
       "      <td>...</td>\n",
       "      <td>0.000000</td>\n",
       "      <td>0.000000</td>\n",
       "      <td>0.000000</td>\n",
       "      <td>1.000000</td>\n",
       "      <td>0.000000</td>\n",
       "      <td>4.500000e+05</td>\n",
       "      <td>-0.350719</td>\n",
       "      <td>-0.243273</td>\n",
       "      <td>0.000000</td>\n",
       "      <td>-0.243256</td>\n",
       "    </tr>\n",
       "    <tr>\n",
       "      <th>75%</th>\n",
       "      <td>1.000000</td>\n",
       "      <td>0.000000</td>\n",
       "      <td>0.000000</td>\n",
       "      <td>0.000000</td>\n",
       "      <td>1.000000</td>\n",
       "      <td>1.000000</td>\n",
       "      <td>0.000000</td>\n",
       "      <td>1.000000</td>\n",
       "      <td>0.000000</td>\n",
       "      <td>0.000000</td>\n",
       "      <td>...</td>\n",
       "      <td>0.000000</td>\n",
       "      <td>0.000000</td>\n",
       "      <td>0.000000</td>\n",
       "      <td>1.000000</td>\n",
       "      <td>0.000000</td>\n",
       "      <td>6.450000e+05</td>\n",
       "      <td>-0.324934</td>\n",
       "      <td>-0.222047</td>\n",
       "      <td>550.000000</td>\n",
       "      <td>-0.225574</td>\n",
       "    </tr>\n",
       "    <tr>\n",
       "      <th>max</th>\n",
       "      <td>1.000000</td>\n",
       "      <td>1.000000</td>\n",
       "      <td>1.000000</td>\n",
       "      <td>1.000000</td>\n",
       "      <td>1.000000</td>\n",
       "      <td>1.000000</td>\n",
       "      <td>1.000000</td>\n",
       "      <td>1.000000</td>\n",
       "      <td>1.000000</td>\n",
       "      <td>1.000000</td>\n",
       "      <td>...</td>\n",
       "      <td>1.000000</td>\n",
       "      <td>1.000000</td>\n",
       "      <td>1.000000</td>\n",
       "      <td>1.000000</td>\n",
       "      <td>1.000000</td>\n",
       "      <td>7.700000e+06</td>\n",
       "      <td>-0.208095</td>\n",
       "      <td>-0.021353</td>\n",
       "      <td>4820.000000</td>\n",
       "      <td>-0.039203</td>\n",
       "    </tr>\n",
       "  </tbody>\n",
       "</table>\n",
       "<p>8 rows × 158 columns</p>\n",
       "</div>"
      ],
      "text/plain": [
       "       waterfront_0.0  waterfront_1.0   condition_1   condition_2  \\\n",
       "count    21597.000000    21597.000000  21597.000000  21597.000000   \n",
       "mean         0.993240        0.006760      0.001343      0.007871   \n",
       "std          0.081944        0.081944      0.036620      0.088373   \n",
       "min          0.000000        0.000000      0.000000      0.000000   \n",
       "25%          1.000000        0.000000      0.000000      0.000000   \n",
       "50%          1.000000        0.000000      0.000000      0.000000   \n",
       "75%          1.000000        0.000000      0.000000      0.000000   \n",
       "max          1.000000        1.000000      1.000000      1.000000   \n",
       "\n",
       "        condition_3   condition_4   condition_5      view_0.0      view_1.0  \\\n",
       "count  21597.000000  21597.000000  21597.000000  21597.000000  21597.000000   \n",
       "mean       0.649164      0.262861      0.078761      0.902209      0.015280   \n",
       "std        0.477243      0.440198      0.269372      0.297039      0.122667   \n",
       "min        0.000000      0.000000      0.000000      0.000000      0.000000   \n",
       "25%        0.000000      0.000000      0.000000      1.000000      0.000000   \n",
       "50%        1.000000      0.000000      0.000000      1.000000      0.000000   \n",
       "75%        1.000000      1.000000      0.000000      1.000000      0.000000   \n",
       "max        1.000000      1.000000      1.000000      1.000000      1.000000   \n",
       "\n",
       "           view_2.0      ...       yr_built_new_1980-1990  \\\n",
       "count  21597.000000      ...                 21597.000000   \n",
       "mean       0.044312      ...                     0.109182   \n",
       "std        0.205792      ...                     0.311874   \n",
       "min        0.000000      ...                     0.000000   \n",
       "25%        0.000000      ...                     0.000000   \n",
       "50%        0.000000      ...                     0.000000   \n",
       "75%        0.000000      ...                     0.000000   \n",
       "max        1.000000      ...                     1.000000   \n",
       "\n",
       "       yr_built_new_1990-2000  yr_built_new_2000-2015  yr_renovated_0  \\\n",
       "count            21597.000000            21597.000000    21597.000000   \n",
       "mean                 0.098764                0.210122        0.965551   \n",
       "std                  0.298351                0.407404        0.182384   \n",
       "min                  0.000000                0.000000        0.000000   \n",
       "25%                  0.000000                0.000000        1.000000   \n",
       "50%                  0.000000                0.000000        1.000000   \n",
       "75%                  0.000000                0.000000        1.000000   \n",
       "max                  1.000000                1.000000        1.000000   \n",
       "\n",
       "       yr_renovated_1         price   sqft_living      sqft_lot  \\\n",
       "count    21597.000000  2.159700e+04  21597.000000  21597.000000   \n",
       "mean         0.034449  5.402966e+05     -0.353582     -0.245636   \n",
       "std          0.182384  3.673681e+05      0.040200      0.057103   \n",
       "min          0.000000  7.800000e+04     -0.553280     -0.500777   \n",
       "25%          0.000000  3.220000e+05     -0.378811     -0.271524   \n",
       "50%          0.000000  4.500000e+05     -0.350719     -0.243273   \n",
       "75%          0.000000  6.450000e+05     -0.324934     -0.222047   \n",
       "max          1.000000  7.700000e+06     -0.208095     -0.021353   \n",
       "\n",
       "       sqft_basement    sqft_lot15  \n",
       "count   21597.000000  21597.000000  \n",
       "mean      285.716581     -0.246489  \n",
       "std       439.819830      0.051657  \n",
       "min         0.000000     -0.469794  \n",
       "25%         0.000000     -0.270675  \n",
       "50%         0.000000     -0.243256  \n",
       "75%       550.000000     -0.225574  \n",
       "max      4820.000000     -0.039203  \n",
       "\n",
       "[8 rows x 158 columns]"
      ]
     },
     "execution_count": 41,
     "metadata": {},
     "output_type": "execute_result"
    }
   ],
   "source": [
    "df_final= df_cat_final.join(df_num_final,how='inner')\n",
    "df_final.describe()"
   ]
  },
  {
   "cell_type": "markdown",
   "metadata": {},
   "source": [
    "# Exploring Data"
   ]
  },
  {
   "cell_type": "markdown",
   "metadata": {},
   "source": [
    "### Multicollinearity"
   ]
  },
  {
   "cell_type": "code",
   "execution_count": 69,
   "metadata": {},
   "outputs": [
    {
     "data": {
      "text/plain": [
       "<matplotlib.axes._subplots.AxesSubplot at 0x1c22ce7c18>"
      ]
     },
     "execution_count": 69,
     "metadata": {},
     "output_type": "execute_result"
    },
    {
     "data": {
      "image/png": "[encoded data removed]",
      "text/plain": [
       "<Figure size 792x648 with 2 Axes>"
      ]
     },
     "metadata": {},
     "output_type": "display_data"
    }
   ],
   "source": [
    "# Set the style of the visualization\n",
    "sns.set(style=\"white\")\n",
    "\n",
    "# Create a covariance matrix\n",
    "corr = df.corr()\n",
    "\n",
    "# Generate a mask the size of our covariance matrix\n",
    "mask = np.zeros_like(corr, dtype=np.bool)\n",
    "mask[np.triu_indices_from(mask)] = True\n",
    "\n",
    "# Set up the matplotlib figure\n",
    "f, ax = plt.subplots(figsize=(11, 9))\n",
    "\n",
    "# Draw the heatmap with the mask and correct aspect ratio\n",
    "sns.heatmap(corr, mask=mask, cmap=plt.cm.Reds,center=0,\n",
    "            square=True, linewidths=.5, cbar_kws={\"shrink\": .5})"
   ]
  },
  {
   "cell_type": "markdown",
   "metadata": {},
   "source": [
    "We are going to drop sqft_living15 and sqft_above due to multicollinearity."
   ]
  },
  {
   "cell_type": "code",
   "execution_count": 42,
   "metadata": {},
   "outputs": [
    {
     "ename": "KeyError",
     "evalue": "\"['sqft_living15' 'sqft_above' 'lat' 'long'] not found in axis\"",
     "output_type": "error",
     "traceback": [
      "\u001b[0;31m---------------------------------------------------------------------------\u001b[0m",
      "\u001b[0;31mKeyError\u001b[0m                                  Traceback (most recent call last)",
      "\u001b[0;32m<ipython-input-42-f090d5fb5443>\u001b[0m in \u001b[0;36m<module>\u001b[0;34m\u001b[0m\n\u001b[0;32m----> 1\u001b[0;31m \u001b[0mdf_final\u001b[0m\u001b[0;34m=\u001b[0m\u001b[0mdf_final\u001b[0m\u001b[0;34m.\u001b[0m\u001b[0mdrop\u001b[0m\u001b[0;34m(\u001b[0m\u001b[0;34m[\u001b[0m\u001b[0;34m'sqft_living15'\u001b[0m\u001b[0;34m,\u001b[0m\u001b[0;34m'sqft_above'\u001b[0m\u001b[0;34m,\u001b[0m\u001b[0;34m'lat'\u001b[0m\u001b[0;34m,\u001b[0m\u001b[0;34m'long'\u001b[0m\u001b[0;34m]\u001b[0m\u001b[0;34m,\u001b[0m\u001b[0maxis\u001b[0m\u001b[0;34m=\u001b[0m\u001b[0;36m1\u001b[0m\u001b[0;34m)\u001b[0m\u001b[0;34m\u001b[0m\u001b[0;34m\u001b[0m\u001b[0m\n\u001b[0m",
      "\u001b[0;32m/anaconda3/lib/python3.7/site-packages/pandas/core/frame.py\u001b[0m in \u001b[0;36mdrop\u001b[0;34m(self, labels, axis, index, columns, level, inplace, errors)\u001b[0m\n\u001b[1;32m   3695\u001b[0m                                            \u001b[0mindex\u001b[0m\u001b[0;34m=\u001b[0m\u001b[0mindex\u001b[0m\u001b[0;34m,\u001b[0m \u001b[0mcolumns\u001b[0m\u001b[0;34m=\u001b[0m\u001b[0mcolumns\u001b[0m\u001b[0;34m,\u001b[0m\u001b[0;34m\u001b[0m\u001b[0;34m\u001b[0m\u001b[0m\n\u001b[1;32m   3696\u001b[0m                                            \u001b[0mlevel\u001b[0m\u001b[0;34m=\u001b[0m\u001b[0mlevel\u001b[0m\u001b[0;34m,\u001b[0m \u001b[0minplace\u001b[0m\u001b[0;34m=\u001b[0m\u001b[0minplace\u001b[0m\u001b[0;34m,\u001b[0m\u001b[0;34m\u001b[0m\u001b[0;34m\u001b[0m\u001b[0m\n\u001b[0;32m-> 3697\u001b[0;31m                                            errors=errors)\n\u001b[0m\u001b[1;32m   3698\u001b[0m \u001b[0;34m\u001b[0m\u001b[0m\n\u001b[1;32m   3699\u001b[0m     @rewrite_axis_style_signature('mapper', [('copy', True),\n",
      "\u001b[0;32m/anaconda3/lib/python3.7/site-packages/pandas/core/generic.py\u001b[0m in \u001b[0;36mdrop\u001b[0;34m(self, labels, axis, index, columns, level, inplace, errors)\u001b[0m\n\u001b[1;32m   3109\u001b[0m         \u001b[0;32mfor\u001b[0m \u001b[0maxis\u001b[0m\u001b[0;34m,\u001b[0m \u001b[0mlabels\u001b[0m \u001b[0;32min\u001b[0m \u001b[0maxes\u001b[0m\u001b[0;34m.\u001b[0m\u001b[0mitems\u001b[0m\u001b[0;34m(\u001b[0m\u001b[0;34m)\u001b[0m\u001b[0;34m:\u001b[0m\u001b[0;34m\u001b[0m\u001b[0;34m\u001b[0m\u001b[0m\n\u001b[1;32m   3110\u001b[0m             \u001b[0;32mif\u001b[0m \u001b[0mlabels\u001b[0m \u001b[0;32mis\u001b[0m \u001b[0;32mnot\u001b[0m \u001b[0;32mNone\u001b[0m\u001b[0;34m:\u001b[0m\u001b[0;34m\u001b[0m\u001b[0;34m\u001b[0m\u001b[0m\n\u001b[0;32m-> 3111\u001b[0;31m                 \u001b[0mobj\u001b[0m \u001b[0;34m=\u001b[0m \u001b[0mobj\u001b[0m\u001b[0;34m.\u001b[0m\u001b[0m_drop_axis\u001b[0m\u001b[0;34m(\u001b[0m\u001b[0mlabels\u001b[0m\u001b[0;34m,\u001b[0m \u001b[0maxis\u001b[0m\u001b[0;34m,\u001b[0m \u001b[0mlevel\u001b[0m\u001b[0;34m=\u001b[0m\u001b[0mlevel\u001b[0m\u001b[0;34m,\u001b[0m \u001b[0merrors\u001b[0m\u001b[0;34m=\u001b[0m\u001b[0merrors\u001b[0m\u001b[0;34m)\u001b[0m\u001b[0;34m\u001b[0m\u001b[0;34m\u001b[0m\u001b[0m\n\u001b[0m\u001b[1;32m   3112\u001b[0m \u001b[0;34m\u001b[0m\u001b[0m\n\u001b[1;32m   3113\u001b[0m         \u001b[0;32mif\u001b[0m \u001b[0minplace\u001b[0m\u001b[0;34m:\u001b[0m\u001b[0;34m\u001b[0m\u001b[0;34m\u001b[0m\u001b[0m\n",
      "\u001b[0;32m/anaconda3/lib/python3.7/site-packages/pandas/core/generic.py\u001b[0m in \u001b[0;36m_drop_axis\u001b[0;34m(self, labels, axis, level, errors)\u001b[0m\n\u001b[1;32m   3141\u001b[0m                 \u001b[0mnew_axis\u001b[0m \u001b[0;34m=\u001b[0m \u001b[0maxis\u001b[0m\u001b[0;34m.\u001b[0m\u001b[0mdrop\u001b[0m\u001b[0;34m(\u001b[0m\u001b[0mlabels\u001b[0m\u001b[0;34m,\u001b[0m \u001b[0mlevel\u001b[0m\u001b[0;34m=\u001b[0m\u001b[0mlevel\u001b[0m\u001b[0;34m,\u001b[0m \u001b[0merrors\u001b[0m\u001b[0;34m=\u001b[0m\u001b[0merrors\u001b[0m\u001b[0;34m)\u001b[0m\u001b[0;34m\u001b[0m\u001b[0;34m\u001b[0m\u001b[0m\n\u001b[1;32m   3142\u001b[0m             \u001b[0;32melse\u001b[0m\u001b[0;34m:\u001b[0m\u001b[0;34m\u001b[0m\u001b[0;34m\u001b[0m\u001b[0m\n\u001b[0;32m-> 3143\u001b[0;31m                 \u001b[0mnew_axis\u001b[0m \u001b[0;34m=\u001b[0m \u001b[0maxis\u001b[0m\u001b[0;34m.\u001b[0m\u001b[0mdrop\u001b[0m\u001b[0;34m(\u001b[0m\u001b[0mlabels\u001b[0m\u001b[0;34m,\u001b[0m \u001b[0merrors\u001b[0m\u001b[0;34m=\u001b[0m\u001b[0merrors\u001b[0m\u001b[0;34m)\u001b[0m\u001b[0;34m\u001b[0m\u001b[0;34m\u001b[0m\u001b[0m\n\u001b[0m\u001b[1;32m   3144\u001b[0m             \u001b[0mresult\u001b[0m \u001b[0;34m=\u001b[0m \u001b[0mself\u001b[0m\u001b[0;34m.\u001b[0m\u001b[0mreindex\u001b[0m\u001b[0;34m(\u001b[0m\u001b[0;34m**\u001b[0m\u001b[0;34m{\u001b[0m\u001b[0maxis_name\u001b[0m\u001b[0;34m:\u001b[0m \u001b[0mnew_axis\u001b[0m\u001b[0;34m}\u001b[0m\u001b[0;34m)\u001b[0m\u001b[0;34m\u001b[0m\u001b[0;34m\u001b[0m\u001b[0m\n\u001b[1;32m   3145\u001b[0m \u001b[0;34m\u001b[0m\u001b[0m\n",
      "\u001b[0;32m/anaconda3/lib/python3.7/site-packages/pandas/core/indexes/base.py\u001b[0m in \u001b[0;36mdrop\u001b[0;34m(self, labels, errors)\u001b[0m\n\u001b[1;32m   4402\u001b[0m             \u001b[0;32mif\u001b[0m \u001b[0merrors\u001b[0m \u001b[0;34m!=\u001b[0m \u001b[0;34m'ignore'\u001b[0m\u001b[0;34m:\u001b[0m\u001b[0;34m\u001b[0m\u001b[0;34m\u001b[0m\u001b[0m\n\u001b[1;32m   4403\u001b[0m                 raise KeyError(\n\u001b[0;32m-> 4404\u001b[0;31m                     '{} not found in axis'.format(labels[mask]))\n\u001b[0m\u001b[1;32m   4405\u001b[0m             \u001b[0mindexer\u001b[0m \u001b[0;34m=\u001b[0m \u001b[0mindexer\u001b[0m\u001b[0;34m[\u001b[0m\u001b[0;34m~\u001b[0m\u001b[0mmask\u001b[0m\u001b[0;34m]\u001b[0m\u001b[0;34m\u001b[0m\u001b[0;34m\u001b[0m\u001b[0m\n\u001b[1;32m   4406\u001b[0m         \u001b[0;32mreturn\u001b[0m \u001b[0mself\u001b[0m\u001b[0;34m.\u001b[0m\u001b[0mdelete\u001b[0m\u001b[0;34m(\u001b[0m\u001b[0mindexer\u001b[0m\u001b[0;34m)\u001b[0m\u001b[0;34m\u001b[0m\u001b[0;34m\u001b[0m\u001b[0m\n",
      "\u001b[0;31mKeyError\u001b[0m: \"['sqft_living15' 'sqft_above' 'lat' 'long'] not found in axis\""
     ]
    }
   ],
   "source": [
    "df_final=df_final.drop(['sqft_living15','sqft_above','lat','long'],axis=1)"
   ]
  },
  {
   "cell_type": "code",
   "execution_count": null,
   "metadata": {},
   "outputs": [],
   "source": [
    "# ['price','sqft_living','sqft_lot','sqft_above','sqft_basement','lat','long','sqft_living15','sqft_lot15']"
   ]
  },
  {
   "cell_type": "markdown",
   "metadata": {},
   "source": [
    "## EDA"
   ]
  },
  {
   "cell_type": "markdown",
   "metadata": {},
   "source": [
    "The following questions will be answered below with a meaningful explanation for each:\n",
    "\n",
    "    1. What zipcode has the most expensive houses? Also which area is the cheapest?\n",
    "    2. What day of the week do most houses sell?\n",
    "    3. What year sold the most houses? Also, zero in on the 2009 financial crisis and look at that.\n",
    "    4. What sort of affect does a waterfront view have on the price of the house?"
   ]
  },
  {
   "cell_type": "markdown",
   "metadata": {},
   "source": [
    "#### Question 1: What zipcode has the most expensive houses? Which has the cheapest?"
   ]
  },
  {
   "cell_type": "code",
   "execution_count": 87,
   "metadata": {},
   "outputs": [
    {
     "data": {
      "text/plain": [
       "array([98178, 98125, 98028, 98136, 98074, 98053, 98003, 98198, 98146,\n",
       "       98038, 98007, 98115, 98107, 98126, 98019, 98103, 98002, 98133,\n",
       "       98040, 98092, 98030, 98119, 98112, 98052, 98027, 98117, 98058,\n",
       "       98001, 98056, 98166, 98023, 98070, 98148, 98105, 98042, 98008,\n",
       "       98059, 98122, 98144, 98004, 98005, 98034, 98075, 98116, 98010,\n",
       "       98118, 98199, 98032, 98045, 98102, 98077, 98108, 98168, 98177,\n",
       "       98065, 98029, 98006, 98109, 98022, 98033, 98155, 98024, 98011,\n",
       "       98031, 98106, 98072, 98188, 98014, 98055, 98039])"
      ]
     },
     "execution_count": 87,
     "metadata": {},
     "output_type": "execute_result"
    }
   ],
   "source": [
    "df.zipcode.unique()"
   ]
  },
  {
   "cell_type": "code",
   "execution_count": 88,
   "metadata": {},
   "outputs": [],
   "source": [
    "df_zipcode= df.groupby('zipcode')['price'].mean()"
   ]
  },
  {
   "cell_type": "code",
   "execution_count": 90,
   "metadata": {
    "scrolled": true
   },
   "outputs": [
    {
     "data": {
      "text/plain": [
       "zipcode\n",
       "98039    2.161300e+06\n",
       "98004    1.356524e+06\n",
       "98040    1.194874e+06\n",
       "98112    1.096239e+06\n",
       "98102    8.996077e+05\n",
       "98109    8.800778e+05\n",
       "98105    8.632289e+05\n",
       "98006    8.599386e+05\n",
       "98119    8.497148e+05\n",
       "98005    8.102897e+05\n",
       "98033    8.039908e+05\n",
       "98199    7.921879e+05\n",
       "98075    7.907347e+05\n",
       "98074    6.856758e+05\n",
       "98077    6.828860e+05\n",
       "98053    6.772150e+05\n",
       "98177    6.764194e+05\n",
       "98008    6.456282e+05\n",
       "98052    6.452442e+05\n",
       "98122    6.345581e+05\n",
       "98115    6.199441e+05\n",
       "98116    6.186951e+05\n",
       "98007    6.172540e+05\n",
       "98027    6.170540e+05\n",
       "98029    6.126427e+05\n",
       "98144    5.947065e+05\n",
       "98024    5.861209e+05\n",
       "98103    5.850488e+05\n",
       "98107    5.791098e+05\n",
       "98117    5.768348e+05\n",
       "             ...     \n",
       "98014    4.556171e+05\n",
       "98045    4.402323e+05\n",
       "98019    4.248151e+05\n",
       "98126    4.247346e+05\n",
       "98155    4.237369e+05\n",
       "98010    4.236660e+05\n",
       "98056    4.208955e+05\n",
       "98118    4.180194e+05\n",
       "98133    3.870116e+05\n",
       "98038    3.670915e+05\n",
       "98146    3.594963e+05\n",
       "98108    3.556785e+05\n",
       "98058    3.536191e+05\n",
       "98092    3.349211e+05\n",
       "98106    3.195814e+05\n",
       "98022    3.167424e+05\n",
       "98042    3.115803e+05\n",
       "98178    3.106128e+05\n",
       "98055    3.042621e+05\n",
       "98198    3.028967e+05\n",
       "98031    3.003404e+05\n",
       "98030    2.961880e+05\n",
       "98003    2.941113e+05\n",
       "98188    2.890783e+05\n",
       "98023    2.867428e+05\n",
       "98148    2.849086e+05\n",
       "98001    2.811949e+05\n",
       "98032    2.512962e+05\n",
       "98168    2.403284e+05\n",
       "98002    2.342840e+05\n",
       "Name: price, Length: 70, dtype: float64"
      ]
     },
     "execution_count": 90,
     "metadata": {},
     "output_type": "execute_result"
    }
   ],
   "source": [
    "zip_max=df_zipcode.sort_values(ascending=False)\n",
    "zip_max"
   ]
  },
  {
   "cell_type": "code",
   "execution_count": 99,
   "metadata": {
    "scrolled": true
   },
   "outputs": [
    {
     "data": {
      "text/plain": [
       "Text(0, 0.5, 'Price (Dollars)')"
      ]
     },
     "execution_count": 99,
     "metadata": {},
     "output_type": "execute_result"
    },
    {
     "data": {
      "image/png": "[encoded data removed]",
      "text/plain": [
       "<Figure size 432x288 with 1 Axes>"
      ]
     },
     "metadata": {
      "needs_background": "light"
     },
     "output_type": "display_data"
    }
   ],
   "source": [
    "zip_max[0:5].plot.bar(x=['zipcode'],y=['price'])\n",
    "plt.title('Top 5 Zipcodes with the Highest Avg. House Price by ')\n",
    "plt.ylabel('Price (Dollars)')"
   ]
  },
  {
   "cell_type": "code",
   "execution_count": 101,
   "metadata": {},
   "outputs": [
    {
     "data": {
      "text/plain": [
       "Text(0, 0.5, 'Price (Dollars)')"
      ]
     },
     "execution_count": 101,
     "metadata": {},
     "output_type": "execute_result"
    },
    {
     "data": {
      "image/png": "[encoded data removed]",
      "text/plain": [
       "<Figure size 432x288 with 1 Axes>"
      ]
     },
     "metadata": {
      "needs_background": "light"
     },
     "output_type": "display_data"
    }
   ],
   "source": [
    "zip_max[-5:].plot.bar(x=['zipcode'],y=['price'])\n",
    "plt.title('Top 5 Zipcodes with the Lowest Avg. House Price by ')\n",
    "plt.ylabel('Price (Dollars)')"
   ]
  },
  {
   "cell_type": "markdown",
   "metadata": {},
   "source": [
    "#### Question 2: What day do most houses sell on?"
   ]
  },
  {
   "cell_type": "code",
   "execution_count": 4,
   "metadata": {},
   "outputs": [],
   "source": [
    "date=pd.to_datetime(df.date)"
   ]
  },
  {
   "cell_type": "code",
   "execution_count": 5,
   "metadata": {},
   "outputs": [],
   "source": [
    "day_of_week= date.dt.day_name()"
   ]
  },
  {
   "cell_type": "code",
   "execution_count": 47,
   "metadata": {},
   "outputs": [],
   "source": [
    "graph_day=day_of_week.groupby(day_of_week).count()"
   ]
  },
  {
   "cell_type": "code",
   "execution_count": 50,
   "metadata": {},
   "outputs": [
    {
     "data": {
      "text/plain": [
       "date\n",
       "Friday       3684\n",
       "Monday       4097\n",
       "Saturday      287\n",
       "Sunday        230\n",
       "Thursday     3989\n",
       "Tuesday      4710\n",
       "Wednesday    4600\n",
       "Name: date, dtype: int64"
      ]
     },
     "execution_count": 50,
     "metadata": {},
     "output_type": "execute_result"
    }
   ],
   "source": [
    "dict_day=graph_day\n",
    "dict_day"
   ]
  },
  {
   "cell_type": "code",
   "execution_count": 73,
   "metadata": {},
   "outputs": [],
   "source": [
    "days=['Monday','Tuesday','Wednesday','Thursday','Friday','Saturday','Sunday']\n",
    "count=[4097,4710,4600,3989,3684,287,230]"
   ]
  },
  {
   "cell_type": "code",
   "execution_count": 87,
   "metadata": {
    "scrolled": true
   },
   "outputs": [
    {
     "data": {
      "text/plain": [
       "Text(0, 0.5, 'Day of Week')"
      ]
     },
     "execution_count": 87,
     "metadata": {},
     "output_type": "execute_result"
    },
    {
     "data": {
      "image/png": "[encoded data removed]",
      "text/plain": [
       "<Figure size 432x288 with 1 Axes>"
      ]
     },
     "metadata": {
      "needs_background": "light"
     },
     "output_type": "display_data"
    }
   ],
   "source": [
    "fig, ax = plt.subplots()\n",
    "plt.barh(days,count)\n",
    "plt.title('Houses Sold by Day of Week')\n",
    "plt.xlabel('Count of Houses Sold')\n",
    "plt.ylabel('Day of Week')"
   ]
  },
  {
   "cell_type": "markdown",
   "metadata": {},
   "source": [
    "We see here the weekend (Saturday and Sunday) are least likely have a house sold. With Tuesday (4710) and Wednesday (4600) coming in first and second respectively."
   ]
  },
  {
   "cell_type": "markdown",
   "metadata": {},
   "source": [
    "#### 3. What year sold the most houses? Also, zero in on the 2009 financial crisis and look at that.\n",
    "   "
   ]
  },
  {
   "cell_type": "code",
   "execution_count": 103,
   "metadata": {},
   "outputs": [
    {
     "data": {
      "text/plain": [
       "array(['10/13/2014', '12/9/2014', '2/25/2015', '2/18/2015', '5/12/2014',\n",
       "       '6/27/2014', '1/15/2015', '4/15/2015', '3/12/2015', '4/3/2015',\n",
       "       '5/27/2014', '5/28/2014', '10/7/2014', '1/24/2015', '7/31/2014',\n",
       "       '5/29/2014', '12/5/2014', '4/24/2015', '5/14/2014', '8/26/2014',\n",
       "       '7/3/2014', '5/16/2014', '11/20/2014', '11/3/2014', '6/26/2014',\n",
       "       '12/1/2014', '6/24/2014', '3/2/2015', '11/10/2014', '12/3/2014',\n",
       "       '6/13/2014', '12/30/2014', '2/13/2015', '6/20/2014', '7/15/2014',\n",
       "       '8/11/2014', '7/7/2014', '10/28/2014', '7/29/2014', '7/18/2014',\n",
       "       '3/25/2015', '7/16/2014', '4/28/2015', '3/11/2015', '9/16/2014',\n",
       "       '2/17/2015', '12/31/2014', '2/5/2015', '3/3/2015', '8/19/2014',\n",
       "       '4/7/2015', '8/27/2014', '2/23/2015', '12/10/2014', '8/28/2014',\n",
       "       '10/21/2014', '12/7/2014', '6/3/2014', '9/9/2014', '10/9/2014',\n",
       "       '8/25/2014', '6/12/2014', '9/12/2014', '1/5/2015', '6/10/2014',\n",
       "       '7/10/2014', '3/16/2015', '11/5/2014', '4/20/2015', '6/9/2014',\n",
       "       '3/23/2015', '12/2/2014', '12/22/2014', '1/28/2015', '6/2/2014',\n",
       "       '11/14/2014', '6/18/2014', '5/19/2014', '9/4/2014', '5/22/2014',\n",
       "       '2/26/2015', '7/25/2014', '12/23/2014', '9/8/2014', '3/30/2015',\n",
       "       '7/11/2014', '6/11/2014', '10/27/2014', '12/12/2014', '9/24/2014',\n",
       "       '4/2/2015', '5/23/2014', '7/23/2014', '3/5/2015', '3/4/2015',\n",
       "       '11/24/2014', '11/21/2014', '6/23/2014', '1/8/2015', '5/11/2015',\n",
       "       '1/2/2015', '11/19/2014', '4/6/2015', '11/4/2014', '7/17/2014',\n",
       "       '1/26/2015', '8/13/2014', '8/5/2014', '5/7/2014', '7/8/2014',\n",
       "       '5/8/2015', '2/27/2015', '6/25/2014', '8/6/2014', '10/30/2014',\n",
       "       '8/20/2014', '4/9/2015', '3/31/2015', '4/1/2015', '7/28/2014',\n",
       "       '8/7/2014', '11/13/2014', '10/3/2014', '3/9/2015', '8/12/2014',\n",
       "       '12/8/2014', '2/19/2015', '3/24/2015', '6/5/2014', '5/2/2014',\n",
       "       '1/16/2015', '9/29/2014', '2/10/2015', '7/9/2014', '5/30/2014',\n",
       "       '11/17/2014', '1/7/2015', '4/14/2015', '9/5/2014', '5/5/2014',\n",
       "       '4/18/2015', '8/18/2014', '5/15/2014', '11/11/2014', '1/13/2015',\n",
       "       '10/14/2014', '11/12/2014', '8/4/2014', '9/19/2014', '11/23/2014',\n",
       "       '4/22/2015', '1/14/2015', '2/21/2015', '10/23/2014', '8/22/2014',\n",
       "       '9/18/2014', '9/3/2014', '6/4/2014', '4/13/2015', '6/16/2014',\n",
       "       '9/2/2014', '3/20/2015', '7/1/2014', '10/1/2014', '1/27/2015',\n",
       "       '4/27/2015', '2/12/2015', '3/14/2015', '9/23/2014', '5/13/2014',\n",
       "       '4/21/2015', '10/20/2014', '2/11/2015', '8/29/2014', '10/24/2014',\n",
       "       '12/16/2014', '8/14/2014', '5/4/2015', '5/1/2015', '10/17/2014',\n",
       "       '9/25/2014', '5/5/2015', '5/13/2015', '6/30/2014', '4/10/2015',\n",
       "       '2/9/2015', '7/2/2014', '2/24/2015', '10/22/2014', '10/2/2014',\n",
       "       '6/19/2014', '2/28/2015', '4/8/2015', '11/22/2014', '7/21/2014',\n",
       "       '2/2/2015', '4/16/2015', '7/22/2014', '11/6/2014', '12/29/2014',\n",
       "       '9/22/2014', '10/6/2014', '9/17/2014', '1/30/2015', '3/26/2015',\n",
       "       '4/23/2015', '12/4/2014', '5/20/2014', '4/29/2015', '3/13/2015',\n",
       "       '1/21/2015', '8/1/2014', '4/30/2015', '3/6/2015', '4/17/2015',\n",
       "       '9/11/2014', '3/18/2015', '7/30/2014', '12/19/2014', '5/6/2014',\n",
       "       '5/12/2015', '8/21/2014', '3/19/2015', '5/2/2015', '2/22/2015',\n",
       "       '11/26/2014', '10/15/2014', '1/6/2015', '8/8/2014', '9/1/2014',\n",
       "       '6/14/2014', '5/10/2015', '5/21/2014', '5/8/2014', '10/29/2014',\n",
       "       '5/7/2015', '9/6/2014', '10/8/2014', '3/10/2015', '12/17/2014',\n",
       "       '12/18/2014', '1/23/2015', '12/11/2014', '9/30/2014', '2/4/2015',\n",
       "       '2/6/2015', '6/17/2014', '5/6/2015', '6/22/2014', '8/15/2014',\n",
       "       '11/18/2014', '8/2/2014', '10/16/2014', '7/12/2014', '9/10/2014',\n",
       "       '5/9/2014', '12/15/2014', '11/7/2014', '7/14/2014', '6/15/2014',\n",
       "       '9/26/2014', '6/6/2014', '1/22/2015', '3/17/2015', '11/25/2014',\n",
       "       '10/10/2014', '12/26/2014', '1/20/2015', '5/14/2015', '1/12/2015',\n",
       "       '7/24/2014', '4/25/2015', '2/20/2015', '9/15/2014', '5/17/2014',\n",
       "       '4/26/2015', '1/9/2015', '4/19/2015', '5/11/2014', '5/24/2014',\n",
       "       '2/14/2015', '5/3/2015', '6/1/2014', '10/31/2014', '3/27/2015',\n",
       "       '6/21/2014', '10/18/2014', '12/20/2014', '2/3/2015', '1/29/2015',\n",
       "       '7/26/2014', '7/19/2014', '12/21/2014', '6/28/2014', '7/20/2014',\n",
       "       '1/19/2015', '12/24/2014', '5/26/2014', '8/16/2014', '9/27/2014',\n",
       "       '7/6/2014', '12/14/2014', '10/5/2014', '4/12/2015', '11/15/2014',\n",
       "       '11/8/2014', '11/1/2014', '5/25/2014', '8/31/2014', '9/7/2014',\n",
       "       '3/29/2015', '10/19/2014', '6/29/2014', '5/4/2014', '4/4/2015',\n",
       "       '11/16/2014', '2/16/2015', '5/31/2014', '10/4/2014', '5/18/2014',\n",
       "       '11/9/2014', '3/15/2015', '4/5/2015', '5/10/2014', '2/7/2015',\n",
       "       '6/8/2014', '12/13/2014', '8/9/2014', '3/21/2015', '10/12/2014',\n",
       "       '5/15/2015', '8/17/2014', '7/4/2014', '9/13/2014', '3/7/2015',\n",
       "       '4/11/2015', '8/10/2014', '12/6/2014', '5/9/2015', '8/3/2014',\n",
       "       '9/28/2014', '5/3/2014', '7/13/2014', '7/5/2014', '10/25/2014',\n",
       "       '11/28/2014', '3/28/2015', '3/1/2015', '9/20/2014', '11/2/2014',\n",
       "       '1/25/2015', '9/21/2014', '1/10/2015', '8/23/2014', '10/26/2014',\n",
       "       '11/29/2014', '6/7/2014', '5/24/2015', '1/31/2015', '12/27/2014',\n",
       "       '1/17/2015', '9/14/2014', '3/8/2015', '8/30/2014', '5/27/2015',\n",
       "       '3/22/2015', '2/15/2015', '10/11/2014', '2/1/2015', '11/30/2014',\n",
       "       '8/24/2014', '7/27/2014'], dtype=object)"
      ]
     },
     "execution_count": 103,
     "metadata": {},
     "output_type": "execute_result"
    }
   ],
   "source": [
    "year= pd.to_datetime(df.date)\n",
    "year_sold=year.dt.year\n",
    "graph_year=year_sold.groupby(year_sold).count()\n",
    "graph_year\n",
    "\n",
    "df.date.unique()"
   ]
  },
  {
   "cell_type": "markdown",
   "metadata": {},
   "source": [
    "It appears the data only has dates 2014 and 2015 where houses were sold. Thus our question can not be answered."
   ]
  },
  {
   "cell_type": "markdown",
   "metadata": {},
   "source": [
    "3.a. Alternative question: "
   ]
  },
  {
   "cell_type": "markdown",
   "metadata": {},
   "source": [
    "####  4. What sort of affect does a waterfront view have on the price of the house?"
   ]
  },
  {
   "cell_type": "code",
   "execution_count": 72,
   "metadata": {},
   "outputs": [
    {
     "data": {
      "text/plain": [
       "Text(0, 0.5, 'Price')"
      ]
     },
     "execution_count": 72,
     "metadata": {},
     "output_type": "execute_result"
    },
    {
     "data": {
      "image/png": "[encoded data removed]",
      "text/plain": [
       "<Figure size 432x288 with 1 Axes>"
      ]
     },
     "metadata": {
      "needs_background": "light"
     },
     "output_type": "display_data"
    }
   ],
   "source": [
    "df_price_waterfront=df[['waterfront','price']]\n",
    "plt.bar(['No Waterfront','Waterfront'],df_price_waterfront.groupby('waterfront')['price'].mean())\n",
    "plt.title('Average Waterfront Housing Price vs. Average Non-Waterfront Housing price')\n",
    "plt.ylabel('Price')"
   ]
  },
  {
   "cell_type": "markdown",
   "metadata": {},
   "source": []
  },
  {
   "cell_type": "code",
   "execution_count": 82,
   "metadata": {},
   "outputs": [
    {
     "name": "stdout",
     "output_type": "stream",
     "text": [
      "On average, having a waterfront property increases property value by  222.61 %\n"
     ]
    }
   ],
   "source": [
    "statistic_waterfront=df_price_waterfront.groupby('waterfront')['price'].mean()\n",
    "print('On average, having a waterfront property increases property value by ', round((statistic_waterfront[1]-statistic_waterfront[0])/(statistic_waterfront[0])*100,2),'%')"
   ]
  },
  {
   "cell_type": "code",
   "execution_count": 79,
   "metadata": {},
   "outputs": [
    {
     "data": {
      "text/plain": [
       "222.61"
      ]
     },
     "execution_count": 79,
     "metadata": {},
     "output_type": "execute_result"
    }
   ],
   "source": [
    "###Double check the percentage change"
   ]
  },
  {
   "cell_type": "markdown",
   "metadata": {},
   "source": [
    "### More Data Exploration"
   ]
  },
  {
   "cell_type": "code",
   "execution_count": 85,
   "metadata": {},
   "outputs": [
    {
     "name": "stderr",
     "output_type": "stream",
     "text": [
      "/anaconda3/lib/python3.7/site-packages/scipy/stats/stats.py:1713: FutureWarning: Using a non-tuple sequence for multidimensional indexing is deprecated; use `arr[tuple(seq)]` instead of `arr[seq]`. In the future this will be interpreted as an array index, `arr[np.array(seq)]`, which will result either in an error or a different result.\n",
      "  return np.add.reduce(sorted[indexer] * weights, axis=axis) / sumval\n"
     ]
    },
    {
     "data": {
      "image/png": "[encoded data removed]",
      "text/plain": [
       "<Figure size 432x432 with 3 Axes>"
      ]
     },
     "metadata": {
      "needs_background": "light"
     },
     "output_type": "display_data"
    },
    {
     "data": {
      "image/png": "[encoded data removed]",
      "text/plain": [
       "<Figure size 432x432 with 3 Axes>"
      ]
     },
     "metadata": {
      "needs_background": "light"
     },
     "output_type": "display_data"
    }
   ],
   "source": [
    "for column in ['sqft_living','sqft_living15']:\n",
    "    sns.jointplot(x=column, y=\"price\",\n",
    "                  data=df, \n",
    "                  kind='reg', \n",
    "                  label=column,\n",
    "                  joint_kws={'line_kws':{'color':'green'}})\n",
    "#     sns.regplot(walmart[column], walmart.Weekly_Sales, label=column)\n",
    "    plt.legend()\n",
    "    plt.show()"
   ]
  },
  {
   "cell_type": "code",
   "execution_count": 26,
   "metadata": {},
   "outputs": [],
   "source": [
    "# df_w_dummies=pd.get_dummies(df_new)\n",
    "# df_w_dummies.describe()"
   ]
  },
  {
   "cell_type": "markdown",
   "metadata": {},
   "source": [
    "# Modeling Data"
   ]
  },
  {
   "cell_type": "code",
   "execution_count": 74,
   "metadata": {},
   "outputs": [],
   "source": [
    "# import statsmodels.formula.api as smf\n",
    "\n",
    "# col_names = df_num_final.describe().columns\n",
    "# results = [['ind_var', 'r_squared', 'intercept', 'slope', 'p-value' ]]\n",
    "# for idx, val in enumerate(col_names):\n",
    "#     print (\"Housing: price~\" + val)\n",
    "#     print (\"------------------------------\")\n",
    "\n",
    "#     f = 'price~' + val\n",
    "#     model = smf.ols(formula=f, data=df_num_final).fit()\n",
    "#     X_new = pd.DataFrame({val: [df_num_final[val].min(), df_num_final[val].max()]});\n",
    "#     preds = model.predict(X_new)\n",
    "#     results.append([val, model.rsquared, model.params[0], model.params[1], model.pvalues[1] ])\n",
    "#     print(results[idx+1])"
   ]
  },
  {
   "cell_type": "code",
   "execution_count": 28,
   "metadata": {},
   "outputs": [],
   "source": [
    "# pd.DataFrame(results)"
   ]
  },
  {
   "cell_type": "code",
   "execution_count": 95,
   "metadata": {},
   "outputs": [],
   "source": [
    "\n",
    "# import statsmodels.formula.api as smf\n",
    "\n",
    "# col_names = model.describe().columns.drop('price',axis=1)\n",
    "# results = [['ind_var', 'r_squared', 'intercept', 'slope', 'p-value' ]]\n",
    "# for idx, val in enumerate(col_names):\n",
    "#     print (\"price~\" + val)\n",
    "#     print (\"------------------------------\")\n",
    "\n",
    "#     f = 'price~' + val\n",
    "#     model = smf.ols(formula=f, data=model\n",
    "#     X_new = pd.DataFrame({val: [model[val].min(), model[val].max()]});\n",
    "#     preds = model.predict(X_new)\n",
    "#     results.append([val, model.rsquared, model.params[0], model.params[1], model.pvalues[1] ])\n",
    "#     print(results[idx+1])\n"
   ]
  },
  {
   "cell_type": "code",
   "execution_count": 79,
   "metadata": {
    "scrolled": true
   },
   "outputs": [
    {
     "data": {
      "text/html": [
       "<div>\n",
       "<style scoped>\n",
       "    .dataframe tbody tr th:only-of-type {\n",
       "        vertical-align: middle;\n",
       "    }\n",
       "\n",
       "    .dataframe tbody tr th {\n",
       "        vertical-align: top;\n",
       "    }\n",
       "\n",
       "    .dataframe thead th {\n",
       "        text-align: right;\n",
       "    }\n",
       "</style>\n",
       "<table border=\"1\" class=\"dataframe\">\n",
       "  <thead>\n",
       "    <tr style=\"text-align: right;\">\n",
       "      <th></th>\n",
       "      <th>0</th>\n",
       "      <th>1</th>\n",
       "      <th>2</th>\n",
       "      <th>3</th>\n",
       "      <th>4</th>\n",
       "    </tr>\n",
       "  </thead>\n",
       "  <tbody>\n",
       "    <tr>\n",
       "      <th>0</th>\n",
       "      <td>ind_var</td>\n",
       "      <td>r_squared</td>\n",
       "      <td>intercept</td>\n",
       "      <td>slope</td>\n",
       "      <td>p-value</td>\n",
       "    </tr>\n",
       "  </tbody>\n",
       "</table>\n",
       "</div>"
      ],
      "text/plain": [
       "         0          1          2      3        4\n",
       "0  ind_var  r_squared  intercept  slope  p-value"
      ]
     },
     "execution_count": 79,
     "metadata": {},
     "output_type": "execute_result"
    }
   ],
   "source": [
    "# pd.DataFrame(results)"
   ]
  },
  {
   "cell_type": "code",
   "execution_count": 49,
   "metadata": {},
   "outputs": [],
   "source": [
    "# model=df_final.astype('int64')"
   ]
  },
  {
   "cell_type": "code",
   "execution_count": 90,
   "metadata": {},
   "outputs": [],
   "source": [
    "# df_model=df_final.drop('date',axis=1)"
   ]
  },
  {
   "cell_type": "code",
   "execution_count": 92,
   "metadata": {},
   "outputs": [],
   "source": [
    "# df_model=df_model.astype('int64')"
   ]
  },
  {
   "cell_type": "code",
   "execution_count": 94,
   "metadata": {},
   "outputs": [],
   "source": [
    "# import statsmodels.api as sm\n",
    "# from statsmodels.formula.api import ols\n",
    "# outcome = model['price']\n",
    "# predictors = model.drop('price',axis=1)\n",
    "# pred_sum = \"+\".join(predictors.columns)\n",
    "# formula = outcome + \"~\" + pred_sum"
   ]
  },
  {
   "cell_type": "code",
   "execution_count": 93,
   "metadata": {
    "scrolled": true
   },
   "outputs": [],
   "source": [
    "# model = ols(formula= formula, data= df_final).fit()\n",
    "# model.summary()"
   ]
  },
  {
   "cell_type": "code",
   "execution_count": null,
   "metadata": {},
   "outputs": [],
   "source": []
  },
  {
   "cell_type": "code",
   "execution_count": 43,
   "metadata": {},
   "outputs": [],
   "source": [
    "y = targ_var\n",
    "X = df_final.drop(['price','date'],axis=1)\n"
   ]
  },
  {
   "cell_type": "code",
   "execution_count": 44,
   "metadata": {
    "scrolled": true
   },
   "outputs": [],
   "source": [
    "def linear_regression(X, y):\n",
    "    \n",
    "    X_train, X_test, y_train, y_test = train_test_split(X, y, test_size=0.33)\n",
    "    linreg = LinearRegression()\n",
    "    linreg.fit(X_train, y_train)\n",
    "    y_pred = linreg.predict(X_test)\n",
    "    \n",
    "    # Errors\n",
    "    print('R^2 Score:',round(linreg.score(X, y),2))\n",
    "    print('Mean Absolute Error:', round(metrics.mean_absolute_error(y_test, y_pred),5))\n",
    "    print('Root Mean Squared Error:', round(np.sqrt(metrics.mean_squared_error(y_test, y_pred)),5))\n",
    "    print('-----------------------------------')\n",
    "    print('Average Predicted Price:', round(y_pred.mean(),4))\n",
    "    print('Average Actual Price:', round(y_test.mean(), 4))\n",
    "    \n",
    "\n",
    "def cross_validation(X, y, cv=15, show_scores=False):\n",
    "    linreg= LinearRegression()\n",
    "    score = cross_val_score(linreg, X, y, cv=cv, scoring=\"r2\")\n",
    "    print('Model Accuracy:',round(sum(score)/len(score),2)*100, '%')\n",
    "    print(score) if show_scores else False\n",
    "    \n",
    "def feature_selection(X, y):\n",
    "    est = sm.OLS(y, X).fit()\n",
    "    pvalues = pd.DataFrame(est.pvalues, columns=['p'])\n",
    "    features = list(pvalues[pvalues.p < 0.05].index)\n",
    "    return features"
   ]
  },
  {
   "cell_type": "code",
   "execution_count": 45,
   "metadata": {},
   "outputs": [
    {
     "name": "stdout",
     "output_type": "stream",
     "text": [
      "R^2 Score: -661994.7\n",
      "Mean Absolute Error: 6736925.01066\n",
      "Root Mean Squared Error: 520273674.51288\n",
      "-----------------------------------\n",
      "Average Predicted Price: -6105995.2216\n",
      "Average Actual Price: 539037.2567\n"
     ]
    }
   ],
   "source": [
    "linear_regression(X,y)"
   ]
  },
  {
   "cell_type": "code",
   "execution_count": 46,
   "metadata": {},
   "outputs": [
    {
     "name": "stdout",
     "output_type": "stream",
     "text": [
      "Model Accuracy: -142843905.0 %\n"
     ]
    }
   ],
   "source": [
    "cross_validation(X, y, cv=15, show_scores=False)"
   ]
  },
  {
   "cell_type": "code",
   "execution_count": 47,
   "metadata": {
    "scrolled": true
   },
   "outputs": [
    {
     "name": "stdout",
     "output_type": "stream",
     "text": [
      "Significant features: 134 \n",
      "All features: 157\n"
     ]
    }
   ],
   "source": [
    "significant_features = feature_selection(X, y)\n",
    "print('Significant features:',len(significant_features),'\\nAll features:',len(X.columns))"
   ]
  },
  {
   "cell_type": "code",
   "execution_count": 72,
   "metadata": {
    "scrolled": true
   },
   "outputs": [
    {
     "data": {
      "text/plain": [
       "array([131, 132,   1,   1,   1,   1,   1, 123, 122, 121, 124, 120, 127,\n",
       "       126, 128, 125, 129, 130, 109, 117, 113, 111, 112, 114, 115, 116,\n",
       "       110, 118, 119, 104, 102, 103, 105, 101, 106, 107,  98, 100,  99,\n",
       "       108,  97,  60,  63,  66,  14,  22,  48,  43,  55,  41,  15,  31,\n",
       "        61,  32,   5,   1,  27,  52,  16,  35,  53,  62,  12,  36,   8,\n",
       "        68,  25,  59,  30,  51,  49,  29,  28,  21,   4,  10,  26,  38,\n",
       "         2,  39,  11,  18,  65,  33,   1,  24,  64,  57,   1,  19,  40,\n",
       "        47,   7,  50,   9,   1,  37,  34,  44,   6,  67,  58,   3,  23,\n",
       "        54,  56,  13,  20,   1,  42,  17,  95,  76,  81,  73,  88,  80,\n",
       "        77,  86,  79,  82,  78,  84,  75,  83,  87,  74,  89,  93,  91,\n",
       "        72,  85,  71,  92,  69, 135,  94,  90,  96,  70, 138, 139, 148,\n",
       "       140, 147, 145, 141, 144, 142, 146, 143,  45,  46, 133, 151, 149,\n",
       "       152, 134, 137, 136, 150])"
      ]
     },
     "execution_count": 72,
     "metadata": {},
     "output_type": "execute_result"
    }
   ],
   "source": [
    "selector.ranking_"
   ]
  },
  {
   "cell_type": "code",
   "execution_count": 73,
   "metadata": {},
   "outputs": [
    {
     "name": "stdout",
     "output_type": "stream",
     "text": [
      "[1.47224105e+17 1.47224105e+17 1.47224105e+17 1.47224105e+17\n",
      " 1.47224105e+17 3.61032500e+04 3.01360000e+04 2.69085000e+04\n",
      " 2.97520000e+04 2.59690000e+04]\n"
     ]
    }
   ],
   "source": [
    "estimators = selector.estimator_\n",
    "print(estimators.coef_)\n"
   ]
  },
  {
   "cell_type": "code",
   "execution_count": 74,
   "metadata": {},
   "outputs": [
    {
     "data": {
      "text/plain": [
       "0.5882088582166325"
      ]
     },
     "execution_count": 74,
     "metadata": {},
     "output_type": "execute_result"
    }
   ],
   "source": [
    "linreg.score(X,y)"
   ]
  },
  {
   "cell_type": "code",
   "execution_count": 88,
   "metadata": {},
   "outputs": [],
   "source": [
    "from sklearn.model_selection import train_test_split\n",
    "from sklearn.linear_model import LinearRegression\n",
    "from sklearn.feature_selection import RFE\n",
    "from sklearn.linear_model import RidgeCV, LassoCV, Ridge, Lasso"
   ]
  },
  {
   "cell_type": "code",
   "execution_count": 91,
   "metadata": {},
   "outputs": [],
   "source": [
    "X=df_final.drop(['date','price'],axis=1)\n",
    "y=targ_var"
   ]
  },
  {
   "cell_type": "code",
   "execution_count": 92,
   "metadata": {},
   "outputs": [
    {
     "name": "stdout",
     "output_type": "stream",
     "text": [
      "Optimum number of features: 19\n",
      "Score with 19 features: 0.238582\n"
     ]
    }
   ],
   "source": [
    "nof_list=np.arange(1,20)\n",
    "high_score=0\n",
    "\n",
    "#variable to sore the optimum features\n",
    "nof=0\n",
    "score_list=[]\n",
    "\n",
    "for n in range (len(nof_list)):\n",
    "    X_train, X_test, y_train, y_test = train_test_split(X,y,test_size= .3, random_state = 0)\n",
    "    model = LinearRegression()\n",
    "    rfe=RFE(model,nof_list[n])\n",
    "    X_train_rfe = rfe.fit_transform(X_train,y_train)\n",
    "    X_test_rfe= rfe.transform(X_test)\n",
    "    model.fit(X_train_rfe,y_train)\n",
    "    score = model.score(X_test_rfe,y_test)\n",
    "    score_list.append(score)\n",
    "    if (score>high_score):\n",
    "        high_score = score\n",
    "        nof = nof_list[n]\n",
    "        \n",
    "print(\"Optimum number of features: %d\" %nof)\n",
    "print(\"Score with %d features: %f\" % (nof, high_score))\n",
    "        "
   ]
  },
  {
   "cell_type": "code",
   "execution_count": 61,
   "metadata": {},
   "outputs": [
    {
     "name": "stdout",
     "output_type": "stream",
     "text": [
      "Index(['view_0.0', 'view_1.0', 'view_2.0', 'view_3.0', 'view_4.0'], dtype='object')\n"
     ]
    }
   ],
   "source": [
    "cols = list(X.columns)\n",
    "model = LinearRegression()\n",
    "#Initializing RFE model\n",
    "rfe = RFE(model, 5)             \n",
    "#Transforming data using RFE\n",
    "X_rfe = rfe.fit_transform(X,y)  \n",
    "#Fitting the data to model\n",
    "model.fit(X_rfe,y)              \n",
    "temp = pd.Series(rfe.support_,index = cols)\n",
    "selected_features_rfe = temp[temp==True].index\n",
    "print(selected_features_rfe)"
   ]
  },
  {
   "cell_type": "code",
   "execution_count": null,
   "metadata": {},
   "outputs": [],
   "source": []
  },
  {
   "cell_type": "code",
   "execution_count": null,
   "metadata": {},
   "outputs": [],
   "source": []
  },
  {
   "cell_type": "markdown",
   "metadata": {},
   "source": [
    "Test train split for sklearn......\n",
    "\n",
    "Feature selection........to improve model and do feature elimination \n"
   ]
  },
  {
   "cell_type": "markdown",
   "metadata": {},
   "source": [
    "### TO DO"
   ]
  },
  {
   "cell_type": "markdown",
   "metadata": {},
   "source": [
    "1. Clean up jupyter notebook\n",
    "2. Decide on what three-four visuals we want to include \n",
    "    a. Put together slide show\n",
    "3. Blog Post"
   ]
  },
  {
   "cell_type": "markdown",
   "metadata": {},
   "source": [
    "### Questions for Brandon"
   ]
  },
  {
   "cell_type": "markdown",
   "metadata": {},
   "source": [
    "1. Do we have to bin?\n",
    "2. I feel like its cheating to log so many variables you are just manipulating the data to say what you want to?\n",
    "    a. Is there a certain level of Kurtosis you are looking for? Something around 3?\n",
    "    b. Same goes for Skewness?\n",
    "3. Do we have to make categorical variables into dummies or does the statsmodels package already deal with them in a certain way?\n"
   ]
  },
  {
   "cell_type": "markdown",
   "metadata": {},
   "source": [
    "# Interpretation of Data"
   ]
  },
  {
   "cell_type": "code",
   "execution_count": null,
   "metadata": {},
   "outputs": [],
   "source": []
  }
 ],
 "metadata": {
  "kernelspec": {
   "display_name": "Python [conda env:root]",
   "language": "python",
   "name": "conda-root-py"
  },
  "language_info": {
   "codemirror_mode": {
    "name": "ipython",
    "version": 3
   },
   "file_extension": ".py",
   "mimetype": "text/x-python",
   "name": "python",
   "nbconvert_exporter": "python",
   "pygments_lexer": "ipython3",
   "version": "3.7.1"
  }
 },
 "nbformat": 4,
 "nbformat_minor": 2
}
